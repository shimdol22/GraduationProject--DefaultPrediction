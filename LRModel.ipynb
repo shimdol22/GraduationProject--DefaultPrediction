{
 "cells": [
  {
   "cell_type": "code",
   "execution_count": 44,
   "metadata": {},
   "outputs": [],
   "source": [
    "import pandas as pd\n",
    "import numpy as np\n",
    "from sklearn.model_selection import train_test_split\n",
    "from sklearn.metrics import confusion_matrix, accuracy_score\n",
    "from sklearn.metrics import precision_score, recall_score\n",
    "from sklearn.metrics import f1_score, roc_auc_score\n",
    "from sklearn.model_selection import GridSearchCV\n",
    "\n",
    "import matplotlib.pyplot as plt\n",
    "import seaborn as sns\n",
    "from matplotlib import rcParams\n",
    "import joblib \n",
    "\n",
    "from imblearn.combine import SMOTEENN"
   ]
  },
  {
   "cell_type": "code",
   "execution_count": 17,
   "metadata": {},
   "outputs": [
    {
     "name": "stdout",
     "output_type": "stream",
     "text": [
      "dataset shape: (23133, 49)\n"
     ]
    }
   ],
   "source": [
    "data = pd.read_csv(\"./real_final_201806_11.csv\")\n",
    "print('dataset shape:', data.shape)"
   ]
  },
  {
   "cell_type": "code",
   "execution_count": 18,
   "metadata": {},
   "outputs": [
    {
     "name": "stdout",
     "output_type": "stream",
     "text": [
      "dataset shape: (23133, 48)\n"
     ]
    }
   ],
   "source": [
    "data = data.drop(['JOIN_KEY'], axis=1)\n",
    "print('dataset shape:', data.shape)"
   ]
  },
  {
   "cell_type": "code",
   "execution_count": 19,
   "metadata": {},
   "outputs": [
    {
     "name": "stdout",
     "output_type": "stream",
     "text": [
      "<class 'pandas.core.frame.DataFrame'>\n",
      "RangeIndex: 23133 entries, 0 to 23132\n",
      "Data columns (total 48 columns):\n",
      " #   Column          Non-Null Count  Dtype  \n",
      "---  ------          --------------  -----  \n",
      " 0   GENDER          23133 non-null  int64  \n",
      " 1   AGE             23133 non-null  int64  \n",
      " 2   LN_AMT_SUM      23133 non-null  int64  \n",
      " 3   LN_AMT_AVG      23133 non-null  float64\n",
      " 4   LN_AMT_AVG_INC  23133 non-null  float64\n",
      " 5   LN_CD_2_0       23133 non-null  int64  \n",
      " 6   LN_CD_2_100     23133 non-null  int64  \n",
      " 7   LN_CD_2_150     23133 non-null  int64  \n",
      " 8   LN_CD_2_170     23133 non-null  int64  \n",
      " 9   LN_CD_2_200     23133 non-null  int64  \n",
      " 10  LN_CD_2_210     23133 non-null  int64  \n",
      " 11  LN_CD_2_220     23133 non-null  int64  \n",
      " 12  LN_CD_2_230     23133 non-null  int64  \n",
      " 13  LN_CD_2_240     23133 non-null  int64  \n",
      " 14  LN_CD_2_245     23133 non-null  int64  \n",
      " 15  LN_CD_2_250     23133 non-null  int64  \n",
      " 16  LN_CD_2_270     23133 non-null  int64  \n",
      " 17  LN_CD_2_271     23133 non-null  int64  \n",
      " 18  LN_CD_2_290     23133 non-null  int64  \n",
      " 19  LN_CD_2_500     23133 non-null  int64  \n",
      " 20  LN_CD_2_510     23133 non-null  int64  \n",
      " 21  LN_CD_2_590     23133 non-null  int64  \n",
      " 22  LN_CD_2_700     23133 non-null  int64  \n",
      " 23  LN_CD_2_710     23133 non-null  int64  \n",
      " 24  SCTR_CD_1       23133 non-null  int64  \n",
      " 25  SCTR_CD_3       23133 non-null  int64  \n",
      " 26  SCTR_CD_5       23133 non-null  int64  \n",
      " 27  SCTR_CD_6       23133 non-null  int64  \n",
      " 28  SCTR_CD_8       23133 non-null  int64  \n",
      " 29  SCTR_CD_17      23133 non-null  int64  \n",
      " 30  SCTR_CD_21      23133 non-null  int64  \n",
      " 31  SCTR_CD_98      23133 non-null  int64  \n",
      " 32  MULTIPLE_DEBT   23133 non-null  int64  \n",
      " 33  NOBANK_RATE     23133 non-null  float64\n",
      " 34  CR_HO_RATE      23133 non-null  float64\n",
      " 35  CD_OPN_CNT      23133 non-null  int64  \n",
      " 36  CD_OPN_CNT_INC  23133 non-null  float64\n",
      " 37  INT_GOV         23133 non-null  float64\n",
      " 38  INT_BENCH       23133 non-null  float64\n",
      " 39  INT_COFIX       23133 non-null  float64\n",
      " 40  CSI             23133 non-null  float64\n",
      " 41  CPI             23133 non-null  float64\n",
      " 42  LAI             23133 non-null  int64  \n",
      " 43  M2              23133 non-null  float64\n",
      " 44  UNEMP_RATE      23133 non-null  float64\n",
      " 45  SALES_PRICE     23133 non-null  float64\n",
      " 46  GDP             23133 non-null  float64\n",
      " 47  DLQ_YN          23133 non-null  int64  \n",
      "dtypes: float64(14), int64(34)\n",
      "memory usage: 8.5 MB\n"
     ]
    }
   ],
   "source": [
    "data.info()"
   ]
  },
  {
   "cell_type": "code",
   "execution_count": 20,
   "metadata": {},
   "outputs": [
    {
     "data": {
      "image/png": "[encoded data removed]",
      "text/plain": [
       "<Figure size 432x288 with 1 Axes>"
      ]
     },
     "metadata": {
      "needs_background": "light"
     },
     "output_type": "display_data"
    }
   ],
   "source": [
    "sns.countplot(x = 'DLQ_YN', data=data)\n",
    "plt.show()"
   ]
  },
  {
   "cell_type": "code",
   "execution_count": 21,
   "metadata": {},
   "outputs": [
    {
     "data": {
      "text/html": [
       "<div>\n",
       "<style scoped>\n",
       "    .dataframe tbody tr th:only-of-type {\n",
       "        vertical-align: middle;\n",
       "    }\n",
       "\n",
       "    .dataframe tbody tr th {\n",
       "        vertical-align: top;\n",
       "    }\n",
       "\n",
       "    .dataframe thead th {\n",
       "        text-align: right;\n",
       "    }\n",
       "</style>\n",
       "<table border=\"1\" class=\"dataframe\">\n",
       "  <thead>\n",
       "    <tr style=\"text-align: right;\">\n",
       "      <th></th>\n",
       "      <th>GENDER</th>\n",
       "      <th>AGE</th>\n",
       "      <th>LN_AMT_SUM</th>\n",
       "      <th>LN_AMT_AVG</th>\n",
       "      <th>LN_AMT_AVG_INC</th>\n",
       "      <th>LN_CD_2_0</th>\n",
       "      <th>LN_CD_2_100</th>\n",
       "      <th>LN_CD_2_150</th>\n",
       "      <th>LN_CD_2_170</th>\n",
       "      <th>LN_CD_2_200</th>\n",
       "      <th>...</th>\n",
       "      <th>INT_BENCH</th>\n",
       "      <th>INT_COFIX</th>\n",
       "      <th>CSI</th>\n",
       "      <th>CPI</th>\n",
       "      <th>LAI</th>\n",
       "      <th>M2</th>\n",
       "      <th>UNEMP_RATE</th>\n",
       "      <th>SALES_PRICE</th>\n",
       "      <th>GDP</th>\n",
       "      <th>DLQ_YN</th>\n",
       "    </tr>\n",
       "  </thead>\n",
       "  <tbody>\n",
       "    <tr>\n",
       "      <th>count</th>\n",
       "      <td>23133.000000</td>\n",
       "      <td>23133.000000</td>\n",
       "      <td>2.313300e+04</td>\n",
       "      <td>2.313300e+04</td>\n",
       "      <td>23133.000000</td>\n",
       "      <td>23133.000000</td>\n",
       "      <td>23133.000000</td>\n",
       "      <td>23133.000000</td>\n",
       "      <td>23133.000000</td>\n",
       "      <td>23133.000000</td>\n",
       "      <td>...</td>\n",
       "      <td>2.313300e+04</td>\n",
       "      <td>2.313300e+04</td>\n",
       "      <td>2.313300e+04</td>\n",
       "      <td>2.313300e+04</td>\n",
       "      <td>23133.0</td>\n",
       "      <td>2.313300e+04</td>\n",
       "      <td>2.313300e+04</td>\n",
       "      <td>2.313300e+04</td>\n",
       "      <td>2.313300e+04</td>\n",
       "      <td>23133.000000</td>\n",
       "    </tr>\n",
       "    <tr>\n",
       "      <th>mean</th>\n",
       "      <td>1.425021</td>\n",
       "      <td>47.478062</td>\n",
       "      <td>4.838986e+05</td>\n",
       "      <td>3.872461e+04</td>\n",
       "      <td>174.958364</td>\n",
       "      <td>0.697791</td>\n",
       "      <td>0.708685</td>\n",
       "      <td>0.073834</td>\n",
       "      <td>0.000821</td>\n",
       "      <td>0.071024</td>\n",
       "      <td>...</td>\n",
       "      <td>1.541667e+00</td>\n",
       "      <td>1.898333e+00</td>\n",
       "      <td>1.008500e+02</td>\n",
       "      <td>1.047883e+02</td>\n",
       "      <td>-13.0</td>\n",
       "      <td>1.143990e+05</td>\n",
       "      <td>3.616667e+00</td>\n",
       "      <td>9.613183e+01</td>\n",
       "      <td>1.725373e+06</td>\n",
       "      <td>0.030995</td>\n",
       "    </tr>\n",
       "    <tr>\n",
       "      <th>std</th>\n",
       "      <td>0.494357</td>\n",
       "      <td>13.709411</td>\n",
       "      <td>7.250609e+05</td>\n",
       "      <td>6.362175e+04</td>\n",
       "      <td>4739.113419</td>\n",
       "      <td>1.407753</td>\n",
       "      <td>0.874342</td>\n",
       "      <td>0.289738</td>\n",
       "      <td>0.030119</td>\n",
       "      <td>0.271436</td>\n",
       "      <td>...</td>\n",
       "      <td>4.274451e-13</td>\n",
       "      <td>7.103360e-13</td>\n",
       "      <td>4.388407e-11</td>\n",
       "      <td>2.579326e-11</td>\n",
       "      <td>0.0</td>\n",
       "      <td>3.846154e-08</td>\n",
       "      <td>1.893637e-12</td>\n",
       "      <td>6.053955e-12</td>\n",
       "      <td>7.532234e-07</td>\n",
       "      <td>0.173307</td>\n",
       "    </tr>\n",
       "    <tr>\n",
       "      <th>min</th>\n",
       "      <td>1.000000</td>\n",
       "      <td>20.000000</td>\n",
       "      <td>6.000000e+01</td>\n",
       "      <td>1.000000e+01</td>\n",
       "      <td>-136450.000000</td>\n",
       "      <td>0.000000</td>\n",
       "      <td>0.000000</td>\n",
       "      <td>0.000000</td>\n",
       "      <td>0.000000</td>\n",
       "      <td>0.000000</td>\n",
       "      <td>...</td>\n",
       "      <td>1.541667e+00</td>\n",
       "      <td>1.898333e+00</td>\n",
       "      <td>1.008500e+02</td>\n",
       "      <td>1.047883e+02</td>\n",
       "      <td>-13.0</td>\n",
       "      <td>1.143990e+05</td>\n",
       "      <td>3.616667e+00</td>\n",
       "      <td>9.613183e+01</td>\n",
       "      <td>1.725373e+06</td>\n",
       "      <td>0.000000</td>\n",
       "    </tr>\n",
       "    <tr>\n",
       "      <th>25%</th>\n",
       "      <td>1.000000</td>\n",
       "      <td>37.000000</td>\n",
       "      <td>6.600000e+04</td>\n",
       "      <td>6.150000e+03</td>\n",
       "      <td>0.000000</td>\n",
       "      <td>0.000000</td>\n",
       "      <td>0.000000</td>\n",
       "      <td>0.000000</td>\n",
       "      <td>0.000000</td>\n",
       "      <td>0.000000</td>\n",
       "      <td>...</td>\n",
       "      <td>1.541667e+00</td>\n",
       "      <td>1.898333e+00</td>\n",
       "      <td>1.008500e+02</td>\n",
       "      <td>1.047883e+02</td>\n",
       "      <td>-13.0</td>\n",
       "      <td>1.143990e+05</td>\n",
       "      <td>3.616667e+00</td>\n",
       "      <td>9.613183e+01</td>\n",
       "      <td>1.725373e+06</td>\n",
       "      <td>0.000000</td>\n",
       "    </tr>\n",
       "    <tr>\n",
       "      <th>50%</th>\n",
       "      <td>1.000000</td>\n",
       "      <td>47.000000</td>\n",
       "      <td>2.040000e+05</td>\n",
       "      <td>1.679028e+04</td>\n",
       "      <td>0.000000</td>\n",
       "      <td>0.000000</td>\n",
       "      <td>1.000000</td>\n",
       "      <td>0.000000</td>\n",
       "      <td>0.000000</td>\n",
       "      <td>0.000000</td>\n",
       "      <td>...</td>\n",
       "      <td>1.541667e+00</td>\n",
       "      <td>1.898333e+00</td>\n",
       "      <td>1.008500e+02</td>\n",
       "      <td>1.047883e+02</td>\n",
       "      <td>-13.0</td>\n",
       "      <td>1.143990e+05</td>\n",
       "      <td>3.616667e+00</td>\n",
       "      <td>9.613183e+01</td>\n",
       "      <td>1.725373e+06</td>\n",
       "      <td>0.000000</td>\n",
       "    </tr>\n",
       "    <tr>\n",
       "      <th>75%</th>\n",
       "      <td>2.000000</td>\n",
       "      <td>57.000000</td>\n",
       "      <td>6.120000e+05</td>\n",
       "      <td>4.800000e+04</td>\n",
       "      <td>34.920635</td>\n",
       "      <td>1.000000</td>\n",
       "      <td>1.000000</td>\n",
       "      <td>0.000000</td>\n",
       "      <td>0.000000</td>\n",
       "      <td>0.000000</td>\n",
       "      <td>...</td>\n",
       "      <td>1.541667e+00</td>\n",
       "      <td>1.898333e+00</td>\n",
       "      <td>1.008500e+02</td>\n",
       "      <td>1.047883e+02</td>\n",
       "      <td>-13.0</td>\n",
       "      <td>1.143990e+05</td>\n",
       "      <td>3.616667e+00</td>\n",
       "      <td>9.613183e+01</td>\n",
       "      <td>1.725373e+06</td>\n",
       "      <td>0.000000</td>\n",
       "    </tr>\n",
       "    <tr>\n",
       "      <th>max</th>\n",
       "      <td>2.000000</td>\n",
       "      <td>84.000000</td>\n",
       "      <td>1.216860e+07</td>\n",
       "      <td>1.900000e+06</td>\n",
       "      <td>133333.333300</td>\n",
       "      <td>22.000000</td>\n",
       "      <td>14.000000</td>\n",
       "      <td>4.000000</td>\n",
       "      <td>2.000000</td>\n",
       "      <td>4.000000</td>\n",
       "      <td>...</td>\n",
       "      <td>1.541667e+00</td>\n",
       "      <td>1.898333e+00</td>\n",
       "      <td>1.008500e+02</td>\n",
       "      <td>1.047883e+02</td>\n",
       "      <td>-13.0</td>\n",
       "      <td>1.143990e+05</td>\n",
       "      <td>3.616667e+00</td>\n",
       "      <td>9.613183e+01</td>\n",
       "      <td>1.725373e+06</td>\n",
       "      <td>1.000000</td>\n",
       "    </tr>\n",
       "  </tbody>\n",
       "</table>\n",
       "<p>8 rows × 48 columns</p>\n",
       "</div>"
      ],
      "text/plain": [
       "             GENDER           AGE    LN_AMT_SUM    LN_AMT_AVG  LN_AMT_AVG_INC  \\\n",
       "count  23133.000000  23133.000000  2.313300e+04  2.313300e+04    23133.000000   \n",
       "mean       1.425021     47.478062  4.838986e+05  3.872461e+04      174.958364   \n",
       "std        0.494357     13.709411  7.250609e+05  6.362175e+04     4739.113419   \n",
       "min        1.000000     20.000000  6.000000e+01  1.000000e+01  -136450.000000   \n",
       "25%        1.000000     37.000000  6.600000e+04  6.150000e+03        0.000000   \n",
       "50%        1.000000     47.000000  2.040000e+05  1.679028e+04        0.000000   \n",
       "75%        2.000000     57.000000  6.120000e+05  4.800000e+04       34.920635   \n",
       "max        2.000000     84.000000  1.216860e+07  1.900000e+06   133333.333300   \n",
       "\n",
       "          LN_CD_2_0   LN_CD_2_100   LN_CD_2_150   LN_CD_2_170   LN_CD_2_200  \\\n",
       "count  23133.000000  23133.000000  23133.000000  23133.000000  23133.000000   \n",
       "mean       0.697791      0.708685      0.073834      0.000821      0.071024   \n",
       "std        1.407753      0.874342      0.289738      0.030119      0.271436   \n",
       "min        0.000000      0.000000      0.000000      0.000000      0.000000   \n",
       "25%        0.000000      0.000000      0.000000      0.000000      0.000000   \n",
       "50%        0.000000      1.000000      0.000000      0.000000      0.000000   \n",
       "75%        1.000000      1.000000      0.000000      0.000000      0.000000   \n",
       "max       22.000000     14.000000      4.000000      2.000000      4.000000   \n",
       "\n",
       "       ...     INT_BENCH     INT_COFIX           CSI           CPI      LAI  \\\n",
       "count  ...  2.313300e+04  2.313300e+04  2.313300e+04  2.313300e+04  23133.0   \n",
       "mean   ...  1.541667e+00  1.898333e+00  1.008500e+02  1.047883e+02    -13.0   \n",
       "std    ...  4.274451e-13  7.103360e-13  4.388407e-11  2.579326e-11      0.0   \n",
       "min    ...  1.541667e+00  1.898333e+00  1.008500e+02  1.047883e+02    -13.0   \n",
       "25%    ...  1.541667e+00  1.898333e+00  1.008500e+02  1.047883e+02    -13.0   \n",
       "50%    ...  1.541667e+00  1.898333e+00  1.008500e+02  1.047883e+02    -13.0   \n",
       "75%    ...  1.541667e+00  1.898333e+00  1.008500e+02  1.047883e+02    -13.0   \n",
       "max    ...  1.541667e+00  1.898333e+00  1.008500e+02  1.047883e+02    -13.0   \n",
       "\n",
       "                 M2    UNEMP_RATE   SALES_PRICE           GDP        DLQ_YN  \n",
       "count  2.313300e+04  2.313300e+04  2.313300e+04  2.313300e+04  23133.000000  \n",
       "mean   1.143990e+05  3.616667e+00  9.613183e+01  1.725373e+06      0.030995  \n",
       "std    3.846154e-08  1.893637e-12  6.053955e-12  7.532234e-07      0.173307  \n",
       "min    1.143990e+05  3.616667e+00  9.613183e+01  1.725373e+06      0.000000  \n",
       "25%    1.143990e+05  3.616667e+00  9.613183e+01  1.725373e+06      0.000000  \n",
       "50%    1.143990e+05  3.616667e+00  9.613183e+01  1.725373e+06      0.000000  \n",
       "75%    1.143990e+05  3.616667e+00  9.613183e+01  1.725373e+06      0.000000  \n",
       "max    1.143990e+05  3.616667e+00  9.613183e+01  1.725373e+06      1.000000  \n",
       "\n",
       "[8 rows x 48 columns]"
      ]
     },
     "execution_count": 21,
     "metadata": {},
     "output_type": "execute_result"
    }
   ],
   "source": [
    "data.describe()"
   ]
  },
  {
   "cell_type": "code",
   "execution_count": 22,
   "metadata": {},
   "outputs": [],
   "source": [
    "X = data.drop(['DLQ_YN'], axis=1)\n",
    "y = data['DLQ_YN']"
   ]
  },
  {
   "cell_type": "code",
   "execution_count": 23,
   "metadata": {},
   "outputs": [],
   "source": [
    "X_train, X_test, y_train, y_test = train_test_split(X, y, test_size=0.2, random_state=0)"
   ]
  },
  {
   "cell_type": "code",
   "execution_count": 24,
   "metadata": {},
   "outputs": [
    {
     "data": {
      "text/plain": [
       "(18506, 47)"
      ]
     },
     "execution_count": 24,
     "metadata": {},
     "output_type": "execute_result"
    }
   ],
   "source": [
    "X_train.shape"
   ]
  },
  {
   "cell_type": "code",
   "execution_count": 25,
   "metadata": {},
   "outputs": [
    {
     "data": {
      "text/plain": [
       "(4627, 47)"
      ]
     },
     "execution_count": 25,
     "metadata": {},
     "output_type": "execute_result"
    }
   ],
   "source": [
    "X_test.shape"
   ]
  },
  {
   "cell_type": "markdown",
   "metadata": {},
   "source": [
    "# SMOTE ENN "
   ]
  },
  {
   "cell_type": "code",
   "execution_count": 29,
   "metadata": {},
   "outputs": [
    {
     "name": "stdout",
     "output_type": "stream",
     "text": [
      "Train Data has 18506 number of rows and 47 of columns\n",
      "Test Data has 4627 number of rows and 47 of columns\n"
     ]
    }
   ],
   "source": [
    "r1 = X_train.shape[0] ; r2  = X_test.shape[0]\n",
    "c1 = X_train.shape[1]; c2 = X_test.shape[1]\n",
    "print(\"Train Data has {0} number of rows and {1} of columns\".format(r1,c1))\n",
    "print(\"Test Data has {0} number of rows and {1} of columns\".format(r2,c2))"
   ]
  },
  {
   "cell_type": "code",
   "execution_count": 30,
   "metadata": {},
   "outputs": [
    {
     "name": "stdout",
     "output_type": "stream",
     "text": [
      "SMOTE 적용 전 학습용 피처/레이블 데이터 세트:  (18506, 47) (18506,)\n",
      "SMOTE 적용 전 레이블 값 분포: \n",
      " 0    17941\n",
      "1      565\n",
      "Name: DLQ_YN, dtype: int64\n",
      "SMOTE 적용 후 학습용 피처/레이블 데이터 세트:  (27667, 47) (27667,)\n",
      "SMOTE 적용 후 레이블 값 분포: \n",
      " 1    14565\n",
      "0    13102\n",
      "Name: DLQ_YN, dtype: int64\n"
     ]
    }
   ],
   "source": [
    "smote = SMOTEENN(random_state=0)\n",
    "X_train_over, y_train_over = smote.fit_resample(X_train, y_train)\n",
    "\n",
    "print('SMOTE 적용 전 학습용 피처/레이블 데이터 세트: ', X_train.shape, y_train.shape)\n",
    "print('SMOTE 적용 전 레이블 값 분포: \\n', pd.Series(y_train).value_counts())\n",
    "\n",
    "print('SMOTE 적용 후 학습용 피처/레이블 데이터 세트: ', X_train_over.shape, y_train_over.shape)\n",
    "print('SMOTE 적용 후 레이블 값 분포: \\n', pd.Series(y_train_over).value_counts())"
   ]
  },
  {
   "cell_type": "code",
   "execution_count": 31,
   "metadata": {},
   "outputs": [
    {
     "data": {
      "image/png": "[encoded data removed]",
      "text/plain": [
       "<Figure size 432x288 with 1 Axes>"
      ]
     },
     "metadata": {
      "needs_background": "light"
     },
     "output_type": "display_data"
    }
   ],
   "source": [
    "df = pd.DataFrame(y_train_over)\n",
    "sns.countplot(x = 'DLQ_YN', data=df)\n",
    "plt.show()"
   ]
  },
  {
   "cell_type": "markdown",
   "metadata": {},
   "source": [
    "# MODELING"
   ]
  },
  {
   "cell_type": "code",
   "execution_count": 32,
   "metadata": {},
   "outputs": [],
   "source": [
    "from sklearn.linear_model import LogisticRegression\n",
    "\n",
    "log_clf = LogisticRegression()\n",
    "\n",
    "parameters = {\n",
    "    'C':[0.3, 0.5, 0.8, 1.20], \n",
    "    'max_iter':[1000],\n",
    "    'penalty': ['l2']\n",
    "    \n",
    "}"
   ]
  },
  {
   "cell_type": "code",
   "execution_count": 33,
   "metadata": {},
   "outputs": [
    {
     "data": {
      "text/html": [
       "<div>\n",
       "<style scoped>\n",
       "    .dataframe tbody tr th:only-of-type {\n",
       "        vertical-align: middle;\n",
       "    }\n",
       "\n",
       "    .dataframe tbody tr th {\n",
       "        vertical-align: top;\n",
       "    }\n",
       "\n",
       "    .dataframe thead th {\n",
       "        text-align: right;\n",
       "    }\n",
       "</style>\n",
       "<table border=\"1\" class=\"dataframe\">\n",
       "  <thead>\n",
       "    <tr style=\"text-align: right;\">\n",
       "      <th></th>\n",
       "      <th>params</th>\n",
       "      <th>mean_test_score</th>\n",
       "      <th>rank_test_score</th>\n",
       "      <th>split0_test_score</th>\n",
       "      <th>split1_test_score</th>\n",
       "      <th>split2_test_score</th>\n",
       "    </tr>\n",
       "  </thead>\n",
       "  <tbody>\n",
       "    <tr>\n",
       "      <th>0</th>\n",
       "      <td>{'C': 0.3, 'max_iter': 1000, 'penalty': 'l2'}</td>\n",
       "      <td>0.758449</td>\n",
       "      <td>1</td>\n",
       "      <td>0.759948</td>\n",
       "      <td>0.75797</td>\n",
       "      <td>0.757428</td>\n",
       "    </tr>\n",
       "    <tr>\n",
       "      <th>1</th>\n",
       "      <td>{'C': 0.5, 'max_iter': 1000, 'penalty': 'l2'}</td>\n",
       "      <td>0.758449</td>\n",
       "      <td>1</td>\n",
       "      <td>0.759948</td>\n",
       "      <td>0.75797</td>\n",
       "      <td>0.757428</td>\n",
       "    </tr>\n",
       "    <tr>\n",
       "      <th>2</th>\n",
       "      <td>{'C': 0.8, 'max_iter': 1000, 'penalty': 'l2'}</td>\n",
       "      <td>0.758449</td>\n",
       "      <td>1</td>\n",
       "      <td>0.759948</td>\n",
       "      <td>0.75797</td>\n",
       "      <td>0.757428</td>\n",
       "    </tr>\n",
       "    <tr>\n",
       "      <th>3</th>\n",
       "      <td>{'C': 1.2, 'max_iter': 1000, 'penalty': 'l2'}</td>\n",
       "      <td>0.758449</td>\n",
       "      <td>1</td>\n",
       "      <td>0.759948</td>\n",
       "      <td>0.75797</td>\n",
       "      <td>0.757428</td>\n",
       "    </tr>\n",
       "  </tbody>\n",
       "</table>\n",
       "</div>"
      ],
      "text/plain": [
       "                                          params  mean_test_score  \\\n",
       "0  {'C': 0.3, 'max_iter': 1000, 'penalty': 'l2'}         0.758449   \n",
       "1  {'C': 0.5, 'max_iter': 1000, 'penalty': 'l2'}         0.758449   \n",
       "2  {'C': 0.8, 'max_iter': 1000, 'penalty': 'l2'}         0.758449   \n",
       "3  {'C': 1.2, 'max_iter': 1000, 'penalty': 'l2'}         0.758449   \n",
       "\n",
       "   rank_test_score  split0_test_score  split1_test_score  split2_test_score  \n",
       "0                1           0.759948            0.75797           0.757428  \n",
       "1                1           0.759948            0.75797           0.757428  \n",
       "2                1           0.759948            0.75797           0.757428  \n",
       "3                1           0.759948            0.75797           0.757428  "
      ]
     },
     "execution_count": 33,
     "metadata": {},
     "output_type": "execute_result"
    }
   ],
   "source": [
    "grid_log = GridSearchCV(log_clf, param_grid=parameters, cv=3, refit=True, return_train_score=True)\n",
    "\n",
    "#param_grid의 하이퍼 파라미터들을 순차적으로 학습/평가 .\n",
    "grid_log.fit(X_train_over, y_train_over)\n",
    "\n",
    "# GridSearchCV 결과는 cv_results_ 라는 딕셔너리로 저장됨. 이를 DataFrame으로 변환\n",
    "scores_df = pd.DataFrame(grid_log.cv_results_)\n",
    "scores_df[['params', 'mean_test_score', 'rank_test_score', \n",
    "           'split0_test_score', 'split1_test_score', 'split2_test_score']]"
   ]
  },
  {
   "cell_type": "code",
   "execution_count": 34,
   "metadata": {},
   "outputs": [
    {
     "name": "stdout",
     "output_type": "stream",
     "text": [
      "GridSearchCV 최적 파라미터: {'C': 0.3, 'max_iter': 1000, 'penalty': 'l2'}\n",
      "GridSearchCV 최고 정확도: 0.7584\n",
      "테스트 데이터 세트 정확도: 0.4936\n"
     ]
    }
   ],
   "source": [
    "print('GridSearchCV 최적 파라미터:', grid_log.best_params_)\n",
    "print('GridSearchCV 최고 정확도: {0:.4f}'.format(grid_log.best_score_))\n",
    "\n",
    "# refit=True로 설정된 GridSearchCV 객체가 fit()을 수행 시 학습이 완료된 Estimator를 내포하고 있으므로 predict()를 통해 예측도 가능. \n",
    "pred = grid_log.predict(X_test)\n",
    "pred_prob = grid_log.predict_proba(X_test)[:,1]\n",
    "print('테스트 데이터 세트 정확도: {0:.4f}'.format(accuracy_score(y_test,pred)))"
   ]
  },
  {
   "cell_type": "code",
   "execution_count": 35,
   "metadata": {},
   "outputs": [],
   "source": [
    "best_model = grid_log.best_estimator_"
   ]
  },
  {
   "cell_type": "code",
   "execution_count": 36,
   "metadata": {},
   "outputs": [],
   "source": [
    "def get_clf_eval(y_test, pred=None, pred_proba=None):\n",
    "    confusion = confusion_matrix( y_test, pred)\n",
    "    accuracy = accuracy_score(y_test , pred)\n",
    "    precision = precision_score(y_test , pred)\n",
    "    recall = recall_score(y_test , pred)\n",
    "    f1 = f1_score(y_test,pred)\n",
    "    # ROC-AUC 추가 \n",
    "    roc_auc = roc_auc_score(y_test, pred_proba)\n",
    "    print('오차 행렬')\n",
    "    print(confusion)\n",
    "    # ROC-AUC print 추가\n",
    "    print('정확도: {0:.4f}, 정밀도: {1:.4f}, 재현율: {2:.4f}, F1: {3:.4f}, AUC:{4:.4f}'.format(accuracy, precision, recall, f1, roc_auc))"
   ]
  },
  {
   "cell_type": "code",
   "execution_count": 37,
   "metadata": {},
   "outputs": [
    {
     "name": "stdout",
     "output_type": "stream",
     "text": [
      "오차 행렬\n",
      "[[2149 2326]\n",
      " [  17  135]]\n",
      "정확도: 0.4936, 정밀도: 0.0549, 재현율: 0.8882, F1: 0.1033, AUC:0.7617\n"
     ]
    }
   ],
   "source": [
    "get_clf_eval(y_test, pred, pred_prob)"
   ]
  },
  {
   "cell_type": "code",
   "execution_count": 38,
   "metadata": {},
   "outputs": [
    {
     "data": {
      "image/png": "[encoded data removed]",
      "text/plain": [
       "<Figure size 432x288 with 1 Axes>"
      ]
     },
     "metadata": {
      "needs_background": "light"
     },
     "output_type": "display_data"
    }
   ],
   "source": [
    "from sklearn.metrics import roc_curve\n",
    "\n",
    "def roc_curve_plot(y_test , pred_proba_c1):\n",
    "    # 임곗값에 따른 FPR, TPR 값을 반환 받음. \n",
    "    fprs , tprs , thresholds = roc_curve(y_test ,pred_proba_c1)\n",
    "\n",
    "    # ROC Curve를 plot 곡선으로 그림. \n",
    "    plt.plot(fprs , tprs, label='ROC')\n",
    "    # 가운데 대각선 직선을 그림. \n",
    "    plt.plot([0, 1], [0, 1], 'k--', label='Random')\n",
    "    \n",
    "    # FPR X 축의 Scale을 0.1 단위로 변경, X,Y 축명 설정등   \n",
    "    start, end = plt.xlim()\n",
    "    plt.xticks(np.round(np.arange(start, end, 0.1),2))\n",
    "    plt.xlim(0,1); plt.ylim(0,1)\n",
    "    plt.xlabel('FPR( 1 - Sensitivity )'); plt.ylabel('TPR( Recall )')\n",
    "    plt.legend()\n",
    "    plt.show()\n",
    "    \n",
    "roc_curve_plot(y_test, best_model.predict_proba(X_test)[:, 1] )"
   ]
  },
  {
   "cell_type": "code",
   "execution_count": 39,
   "metadata": {},
   "outputs": [
    {
     "name": "stdout",
     "output_type": "stream",
     "text": [
      "[-1.94873432e-09 -3.92164408e-09  2.51081343e-06 -9.52353589e-05\n",
      " -1.15777516e-06  7.15039909e-09  2.62653518e-09 -4.76909441e-10\n",
      " -4.36185043e-12 -2.50346828e-10 -1.02221506e-10 -1.34348563e-09\n",
      " -2.05042181e-10 -2.58580953e-10 -9.01622672e-11 -5.15851572e-11\n",
      " -2.16307128e-10 -4.61971353e-12 -6.28572316e-11 -5.13327994e-10\n",
      " -1.31651073e-10 -4.90961618e-11 -1.72292226e-11 -2.79119483e-11\n",
      " -3.54021998e-10 -8.20895190e-10  5.94451035e-09 -5.35449058e-11\n",
      " -2.12361441e-10  7.53029699e-10  6.73134080e-10 -7.13432831e-10\n",
      "  3.70832662e-10  1.21637281e-09  1.45080192e-10 -3.12653334e-09\n",
      " -1.32385486e-10  7.00948058e-13  5.40224091e-13  6.65205664e-13\n",
      "  3.53394159e-11  3.67194694e-11 -4.55540314e-12  4.00872089e-08\n",
      "  1.26733652e-12  3.36860966e-11  6.04597800e-07]\n"
     ]
    }
   ],
   "source": [
    "importance = best_model.coef_[0]\n",
    "\n",
    "print(importance)\n"
   ]
  },
  {
   "cell_type": "code",
   "execution_count": 40,
   "metadata": {},
   "outputs": [
    {
     "data": {
      "image/png": "[encoded data removed]",
      "text/plain": [
       "<Figure size 432x288 with 1 Axes>"
      ]
     },
     "metadata": {
      "needs_background": "light"
     },
     "output_type": "display_data"
    }
   ],
   "source": [
    "coefs = best_model.coef_[0]\n",
    "indices = np.argsort(coefs)[::-1]\n",
    "\n",
    "plt.figure()\n",
    "plt.title(\"Feature importances (Logistic Regression)\")\n",
    "plt.bar(range(10), coefs[indices[:10]],\n",
    "       color=\"r\", align=\"center\")\n",
    "plt.xticks(range(10), X_train_over.columns[indices[:10]], rotation=45, ha='right')\n",
    "plt.subplots_adjust(bottom=0.3)"
   ]
  },
  {
   "cell_type": "markdown",
   "metadata": {},
   "source": [
    "# MODEL SAVE "
   ]
  },
  {
   "cell_type": "code",
   "execution_count": 42,
   "metadata": {},
   "outputs": [],
   "source": [
    "best_catboost_model = grid_log.best_estimator_"
   ]
  },
  {
   "cell_type": "code",
   "execution_count": 45,
   "metadata": {},
   "outputs": [
    {
     "data": {
      "text/plain": [
       "['LOGISTIC_MODEL.pkl']"
      ]
     },
     "execution_count": 45,
     "metadata": {},
     "output_type": "execute_result"
    }
   ],
   "source": [
    "import pickle\n",
    "\n",
    "filename = 'LOGISTIC_MODEL.pkl'\n",
    "joblib.dump(best_catboost_model, filename)"
   ]
  }
 ],
 "metadata": {
  "kernelspec": {
   "display_name": "Python 3",
   "language": "python",
   "name": "python3"
  },
  "language_info": {
   "codemirror_mode": {
    "name": "ipython",
    "version": 3
   },
   "file_extension": ".py",
   "mimetype": "text/x-python",
   "name": "python",
   "nbconvert_exporter": "python",
   "pygments_lexer": "ipython3",
   "version": "3.8.8"
  }
 },
 "nbformat": 4,
 "nbformat_minor": 4
}
