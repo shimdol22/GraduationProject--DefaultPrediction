{
 "cells": [
  {
   "cell_type": "code",
   "execution_count": 12,
   "metadata": {},
   "outputs": [],
   "source": [
    "import tensorflow as tf\n",
    "import pandas as pd\n",
    "import numpy as np\n",
    "import matplotlib.pyplot as plt\n",
    "import math\n",
    "from tensorflow import keras\n",
    "from tensorflow.keras import layers\n",
    "from keras.models import Sequential\n",
    "from keras.layers import Dense\n",
    "from keras.layers import LSTM\n",
    "from keras.layers import Flatten\n",
    "import random as python_random\n",
    "import random\n",
    "from sklearn.preprocessing import MinMaxScaler\n",
    "from keras.callbacks import EarlyStopping\n",
    "from keras.layers import BatchNormalization\n",
    "import os\n",
    "\n",
    "np.random.seed(2)\n",
    "python_random.seed(2)\n",
    "tf.random.set_seed(12)\n",
    "\n",
    "df_train = pd.read_csv('201806-201811_train.csv')\n",
    "df_train = df_train.drop(['JOIN_KEY','YM'], axis=1)\n",
    "\n",
    "df_test = pd.read_csv('201806-201811_test.csv')\n",
    "df_test = df_test.drop(['JOIN_KEY','YM'], axis=1)\n",
    "\n",
    "df_12 = pd.read_csv('201812.csv')\n",
    "df_12 = df_12.drop(['JOIN_KEY','YM'], axis=1)\n",
    "df_12_train = df_12[:16193]\n",
    "df_12_test = df_12[16193:]\n",
    "\n",
    "#df = df.drop([\"JOIN_KEY\",\"DLQ_AMT_SUM\",\"299\",\"101\",\"103\",\"104\",\"199\",\"201\",\"202\",\"DLQ_AMT_AVG\",\"299\",'YM'], axis = 1)"
   ]
  },
  {
   "cell_type": "code",
   "execution_count": 13,
   "metadata": {},
   "outputs": [
    {
     "name": "stdout",
     "output_type": "stream",
     "text": [
      "(97158, 58)\n",
      "(41640, 58)\n",
      "(23133, 58)\n",
      "(16193, 58)\n",
      "(6940, 58)\n"
     ]
    }
   ],
   "source": [
    "print(df_train.shape)\n",
    "print(df_test.shape)\n",
    "print(df_12.shape)\n",
    "print(df_12_train.shape)\n",
    "print(df_12_test.shape)"
   ]
  },
  {
   "cell_type": "code",
   "execution_count": 96,
   "metadata": {},
   "outputs": [],
   "source": [
    "# DataFrame의 맨 마지막 컬럼이 레이블, 나머지는 피처들\n",
    "X = df.iloc[:, :-1]\n",
    "y = df.iloc[:, -1]"
   ]
  },
  {
   "cell_type": "code",
   "execution_count": 97,
   "metadata": {},
   "outputs": [
    {
     "data": {
      "text/html": [
       "<div>\n",
       "<style scoped>\n",
       "    .dataframe tbody tr th:only-of-type {\n",
       "        vertical-align: middle;\n",
       "    }\n",
       "\n",
       "    .dataframe tbody tr th {\n",
       "        vertical-align: top;\n",
       "    }\n",
       "\n",
       "    .dataframe thead th {\n",
       "        text-align: right;\n",
       "    }\n",
       "</style>\n",
       "<table border=\"1\" class=\"dataframe\">\n",
       "  <thead>\n",
       "    <tr style=\"text-align: right;\">\n",
       "      <th></th>\n",
       "      <th>GENDER</th>\n",
       "      <th>AGE</th>\n",
       "      <th>LN_AMT_SUM</th>\n",
       "      <th>LN_AMT_AVG</th>\n",
       "      <th>LN_AMT_AVG_INC</th>\n",
       "      <th>LN_CD_2_0</th>\n",
       "      <th>LN_CD_2_100</th>\n",
       "      <th>LN_CD_2_150</th>\n",
       "      <th>LN_CD_2_170</th>\n",
       "      <th>LN_CD_2_200</th>\n",
       "      <th>...</th>\n",
       "      <th>INT_GOV</th>\n",
       "      <th>INT_BENCH</th>\n",
       "      <th>INT_COFIX</th>\n",
       "      <th>CSI</th>\n",
       "      <th>CPI</th>\n",
       "      <th>LAI</th>\n",
       "      <th>M2</th>\n",
       "      <th>UNEMP_RATE</th>\n",
       "      <th>SALES_PRICE</th>\n",
       "      <th>GDP</th>\n",
       "    </tr>\n",
       "  </thead>\n",
       "  <tbody>\n",
       "    <tr>\n",
       "      <th>0</th>\n",
       "      <td>2</td>\n",
       "      <td>62</td>\n",
       "      <td>14000</td>\n",
       "      <td>14000.0</td>\n",
       "      <td>0.0</td>\n",
       "      <td>0</td>\n",
       "      <td>0</td>\n",
       "      <td>0</td>\n",
       "      <td>0</td>\n",
       "      <td>0</td>\n",
       "      <td>...</td>\n",
       "      <td>2.122</td>\n",
       "      <td>1.50</td>\n",
       "      <td>1.85</td>\n",
       "      <td>106.3</td>\n",
       "      <td>104.13</td>\n",
       "      <td>-3</td>\n",
       "      <td>112556.6</td>\n",
       "      <td>3.7</td>\n",
       "      <td>92.531</td>\n",
       "      <td>1725373.4</td>\n",
       "    </tr>\n",
       "    <tr>\n",
       "      <th>1</th>\n",
       "      <td>2</td>\n",
       "      <td>62</td>\n",
       "      <td>14000</td>\n",
       "      <td>14000.0</td>\n",
       "      <td>0.0</td>\n",
       "      <td>0</td>\n",
       "      <td>0</td>\n",
       "      <td>0</td>\n",
       "      <td>0</td>\n",
       "      <td>0</td>\n",
       "      <td>...</td>\n",
       "      <td>2.123</td>\n",
       "      <td>1.50</td>\n",
       "      <td>1.87</td>\n",
       "      <td>101.8</td>\n",
       "      <td>103.93</td>\n",
       "      <td>-3</td>\n",
       "      <td>112415.5</td>\n",
       "      <td>3.7</td>\n",
       "      <td>93.020</td>\n",
       "      <td>1725373.4</td>\n",
       "    </tr>\n",
       "    <tr>\n",
       "      <th>2</th>\n",
       "      <td>2</td>\n",
       "      <td>62</td>\n",
       "      <td>14000</td>\n",
       "      <td>14000.0</td>\n",
       "      <td>0.0</td>\n",
       "      <td>0</td>\n",
       "      <td>0</td>\n",
       "      <td>0</td>\n",
       "      <td>0</td>\n",
       "      <td>0</td>\n",
       "      <td>...</td>\n",
       "      <td>1.916</td>\n",
       "      <td>1.50</td>\n",
       "      <td>1.89</td>\n",
       "      <td>99.9</td>\n",
       "      <td>104.85</td>\n",
       "      <td>-3</td>\n",
       "      <td>113032.1</td>\n",
       "      <td>4.0</td>\n",
       "      <td>94.107</td>\n",
       "      <td>1725373.4</td>\n",
       "    </tr>\n",
       "    <tr>\n",
       "      <th>3</th>\n",
       "      <td>2</td>\n",
       "      <td>62</td>\n",
       "      <td>14000</td>\n",
       "      <td>14000.0</td>\n",
       "      <td>0.0</td>\n",
       "      <td>0</td>\n",
       "      <td>0</td>\n",
       "      <td>0</td>\n",
       "      <td>0</td>\n",
       "      <td>0</td>\n",
       "      <td>...</td>\n",
       "      <td>2.005</td>\n",
       "      <td>1.50</td>\n",
       "      <td>1.90</td>\n",
       "      <td>100.7</td>\n",
       "      <td>105.65</td>\n",
       "      <td>-3</td>\n",
       "      <td>115309.5</td>\n",
       "      <td>3.6</td>\n",
       "      <td>97.716</td>\n",
       "      <td>1725373.4</td>\n",
       "    </tr>\n",
       "    <tr>\n",
       "      <th>4</th>\n",
       "      <td>2</td>\n",
       "      <td>62</td>\n",
       "      <td>14000</td>\n",
       "      <td>14000.0</td>\n",
       "      <td>0.0</td>\n",
       "      <td>0</td>\n",
       "      <td>0</td>\n",
       "      <td>0</td>\n",
       "      <td>0</td>\n",
       "      <td>0</td>\n",
       "      <td>...</td>\n",
       "      <td>1.939</td>\n",
       "      <td>1.50</td>\n",
       "      <td>1.93</td>\n",
       "      <td>99.9</td>\n",
       "      <td>105.46</td>\n",
       "      <td>-33</td>\n",
       "      <td>116315.8</td>\n",
       "      <td>3.5</td>\n",
       "      <td>99.512</td>\n",
       "      <td>1725373.4</td>\n",
       "    </tr>\n",
       "    <tr>\n",
       "      <th>5</th>\n",
       "      <td>2</td>\n",
       "      <td>62</td>\n",
       "      <td>14000</td>\n",
       "      <td>14000.0</td>\n",
       "      <td>0.0</td>\n",
       "      <td>0</td>\n",
       "      <td>0</td>\n",
       "      <td>0</td>\n",
       "      <td>0</td>\n",
       "      <td>0</td>\n",
       "      <td>...</td>\n",
       "      <td>1.897</td>\n",
       "      <td>1.75</td>\n",
       "      <td>1.95</td>\n",
       "      <td>96.5</td>\n",
       "      <td>104.71</td>\n",
       "      <td>-33</td>\n",
       "      <td>116764.7</td>\n",
       "      <td>3.2</td>\n",
       "      <td>99.905</td>\n",
       "      <td>1725373.4</td>\n",
       "    </tr>\n",
       "    <tr>\n",
       "      <th>6</th>\n",
       "      <td>2</td>\n",
       "      <td>62</td>\n",
       "      <td>14000</td>\n",
       "      <td>14000.0</td>\n",
       "      <td>0.0</td>\n",
       "      <td>0</td>\n",
       "      <td>0</td>\n",
       "      <td>0</td>\n",
       "      <td>0</td>\n",
       "      <td>0</td>\n",
       "      <td>...</td>\n",
       "      <td>1.817</td>\n",
       "      <td>1.75</td>\n",
       "      <td>1.99</td>\n",
       "      <td>97.6</td>\n",
       "      <td>104.35</td>\n",
       "      <td>-33</td>\n",
       "      <td>117289.8</td>\n",
       "      <td>3.4</td>\n",
       "      <td>100.014</td>\n",
       "      <td>1725373.4</td>\n",
       "    </tr>\n",
       "    <tr>\n",
       "      <th>7</th>\n",
       "      <td>1</td>\n",
       "      <td>22</td>\n",
       "      <td>4300</td>\n",
       "      <td>4300.0</td>\n",
       "      <td>0.0</td>\n",
       "      <td>0</td>\n",
       "      <td>0</td>\n",
       "      <td>0</td>\n",
       "      <td>0</td>\n",
       "      <td>0</td>\n",
       "      <td>...</td>\n",
       "      <td>2.122</td>\n",
       "      <td>1.50</td>\n",
       "      <td>1.85</td>\n",
       "      <td>106.3</td>\n",
       "      <td>104.13</td>\n",
       "      <td>-3</td>\n",
       "      <td>112556.6</td>\n",
       "      <td>3.7</td>\n",
       "      <td>92.531</td>\n",
       "      <td>1725373.4</td>\n",
       "    </tr>\n",
       "  </tbody>\n",
       "</table>\n",
       "<p>8 rows × 57 columns</p>\n",
       "</div>"
      ],
      "text/plain": [
       "   GENDER  AGE  LN_AMT_SUM  LN_AMT_AVG  LN_AMT_AVG_INC  LN_CD_2_0  \\\n",
       "0       2   62       14000     14000.0             0.0          0   \n",
       "1       2   62       14000     14000.0             0.0          0   \n",
       "2       2   62       14000     14000.0             0.0          0   \n",
       "3       2   62       14000     14000.0             0.0          0   \n",
       "4       2   62       14000     14000.0             0.0          0   \n",
       "5       2   62       14000     14000.0             0.0          0   \n",
       "6       2   62       14000     14000.0             0.0          0   \n",
       "7       1   22        4300      4300.0             0.0          0   \n",
       "\n",
       "   LN_CD_2_100  LN_CD_2_150  LN_CD_2_170  LN_CD_2_200  ...  INT_GOV  \\\n",
       "0            0            0            0            0  ...    2.122   \n",
       "1            0            0            0            0  ...    2.123   \n",
       "2            0            0            0            0  ...    1.916   \n",
       "3            0            0            0            0  ...    2.005   \n",
       "4            0            0            0            0  ...    1.939   \n",
       "5            0            0            0            0  ...    1.897   \n",
       "6            0            0            0            0  ...    1.817   \n",
       "7            0            0            0            0  ...    2.122   \n",
       "\n",
       "   INT_BENCH  INT_COFIX    CSI     CPI  LAI        M2  UNEMP_RATE  \\\n",
       "0       1.50       1.85  106.3  104.13   -3  112556.6         3.7   \n",
       "1       1.50       1.87  101.8  103.93   -3  112415.5         3.7   \n",
       "2       1.50       1.89   99.9  104.85   -3  113032.1         4.0   \n",
       "3       1.50       1.90  100.7  105.65   -3  115309.5         3.6   \n",
       "4       1.50       1.93   99.9  105.46  -33  116315.8         3.5   \n",
       "5       1.75       1.95   96.5  104.71  -33  116764.7         3.2   \n",
       "6       1.75       1.99   97.6  104.35  -33  117289.8         3.4   \n",
       "7       1.50       1.85  106.3  104.13   -3  112556.6         3.7   \n",
       "\n",
       "   SALES_PRICE        GDP  \n",
       "0       92.531  1725373.4  \n",
       "1       93.020  1725373.4  \n",
       "2       94.107  1725373.4  \n",
       "3       97.716  1725373.4  \n",
       "4       99.512  1725373.4  \n",
       "5       99.905  1725373.4  \n",
       "6      100.014  1725373.4  \n",
       "7       92.531  1725373.4  \n",
       "\n",
       "[8 rows x 57 columns]"
      ]
     },
     "execution_count": 97,
     "metadata": {},
     "output_type": "execute_result"
    }
   ],
   "source": [
    "X.head(8)"
   ]
  },
  {
   "cell_type": "code",
   "execution_count": 98,
   "metadata": {},
   "outputs": [
    {
     "data": {
      "text/plain": [
       "0    0\n",
       "1    0\n",
       "2    0\n",
       "3    0\n",
       "4    0\n",
       "Name: DLQ_YN, dtype: int64"
      ]
     },
     "execution_count": 98,
     "metadata": {},
     "output_type": "execute_result"
    }
   ],
   "source": [
    "y.head()"
   ]
  },
  {
   "cell_type": "markdown",
   "metadata": {},
   "source": [
    "# MinMaxScaler"
   ]
  },
  {
   "cell_type": "code",
   "execution_count": 99,
   "metadata": {},
   "outputs": [
    {
     "name": "stdout",
     "output_type": "stream",
     "text": [
      "feature들의 최소 값\n",
      "GENDER            0.0\n",
      "AGE               0.0\n",
      "LN_AMT_SUM        0.0\n",
      "LN_AMT_AVG        0.0\n",
      "LN_AMT_AVG_INC    0.0\n",
      "LN_CD_2_0         0.0\n",
      "LN_CD_2_100       0.0\n",
      "LN_CD_2_150       0.0\n",
      "LN_CD_2_170       0.0\n",
      "LN_CD_2_200       0.0\n",
      "LN_CD_2_210       0.0\n",
      "LN_CD_2_220       0.0\n",
      "LN_CD_2_230       0.0\n",
      "LN_CD_2_240       0.0\n",
      "LN_CD_2_245       0.0\n",
      "LN_CD_2_250       0.0\n",
      "LN_CD_2_270       0.0\n",
      "LN_CD_2_271       0.0\n",
      "LN_CD_2_290       0.0\n",
      "LN_CD_2_500       0.0\n",
      "LN_CD_2_510       0.0\n",
      "LN_CD_2_590       0.0\n",
      "LN_CD_2_700       0.0\n",
      "LN_CD_2_710       0.0\n",
      "SCTR_CD_1         0.0\n",
      "SCTR_CD_3         0.0\n",
      "SCTR_CD_5         0.0\n",
      "SCTR_CD_6         0.0\n",
      "SCTR_CD_8         0.0\n",
      "SCTR_CD_17        0.0\n",
      "SCTR_CD_21        0.0\n",
      "SCTR_CD_98        0.0\n",
      "MULTIPLE_DEBT     0.0\n",
      "NOBANK_RATE       0.0\n",
      "CR_HO_RATE        0.0\n",
      "DLQ_AMT_SUM       0.0\n",
      "DLQ_AMT_AVG       0.0\n",
      "101               0.0\n",
      "103               0.0\n",
      "104               0.0\n",
      "199               0.0\n",
      "201               0.0\n",
      "202               0.0\n",
      "299               0.0\n",
      "9997              0.0\n",
      "CD_OPN_CNT        0.0\n",
      "CD_OPN_CNT_INC    0.0\n",
      "INT_GOV           0.0\n",
      "INT_BENCH         0.0\n",
      "INT_COFIX         0.0\n",
      "CSI               0.0\n",
      "CPI               0.0\n",
      "LAI               0.0\n",
      "M2                0.0\n",
      "UNEMP_RATE        0.0\n",
      "SALES_PRICE       0.0\n",
      "GDP               0.0\n",
      "dtype: float64\n",
      "\n",
      "feature들의 최대 값\n",
      "GENDER            1.0\n",
      "AGE               1.0\n",
      "LN_AMT_SUM        1.0\n",
      "LN_AMT_AVG        1.0\n",
      "LN_AMT_AVG_INC    1.0\n",
      "LN_CD_2_0         1.0\n",
      "LN_CD_2_100       1.0\n",
      "LN_CD_2_150       1.0\n",
      "LN_CD_2_170       1.0\n",
      "LN_CD_2_200       1.0\n",
      "LN_CD_2_210       1.0\n",
      "LN_CD_2_220       1.0\n",
      "LN_CD_2_230       1.0\n",
      "LN_CD_2_240       1.0\n",
      "LN_CD_2_245       1.0\n",
      "LN_CD_2_250       1.0\n",
      "LN_CD_2_270       1.0\n",
      "LN_CD_2_271       1.0\n",
      "LN_CD_2_290       1.0\n",
      "LN_CD_2_500       1.0\n",
      "LN_CD_2_510       1.0\n",
      "LN_CD_2_590       1.0\n",
      "LN_CD_2_700       1.0\n",
      "LN_CD_2_710       1.0\n",
      "SCTR_CD_1         1.0\n",
      "SCTR_CD_3         1.0\n",
      "SCTR_CD_5         1.0\n",
      "SCTR_CD_6         1.0\n",
      "SCTR_CD_8         1.0\n",
      "SCTR_CD_17        1.0\n",
      "SCTR_CD_21        1.0\n",
      "SCTR_CD_98        1.0\n",
      "MULTIPLE_DEBT     1.0\n",
      "NOBANK_RATE       1.0\n",
      "CR_HO_RATE        1.0\n",
      "DLQ_AMT_SUM       1.0\n",
      "DLQ_AMT_AVG       1.0\n",
      "101               1.0\n",
      "103               1.0\n",
      "104               1.0\n",
      "199               1.0\n",
      "201               1.0\n",
      "202               1.0\n",
      "299               1.0\n",
      "9997              1.0\n",
      "CD_OPN_CNT        1.0\n",
      "CD_OPN_CNT_INC    1.0\n",
      "INT_GOV           1.0\n",
      "INT_BENCH         1.0\n",
      "INT_COFIX         1.0\n",
      "CSI               1.0\n",
      "CPI               1.0\n",
      "LAI               1.0\n",
      "M2                1.0\n",
      "UNEMP_RATE        1.0\n",
      "SALES_PRICE       1.0\n",
      "GDP               0.0\n",
      "dtype: float64\n"
     ]
    }
   ],
   "source": [
    "#columns = ['LN_AMT_SUM','LN_AMT_AVG', 'INT_GOV','INT_BENCH','INT_COFIX','CSI','CPI','LAI','M2','UNEMP_RATE','SALES_PRICE','GDP']\n",
    "\n",
    "from sklearn.preprocessing import MinMaxScaler\n",
    "\n",
    "# MinMaxScaler객체 생성\n",
    "scaler = MinMaxScaler()\n",
    "# MinMaxScaler 로 데이터 셋 변환. fit() 과 transform() 호출.\n",
    "scaler.fit(X)\n",
    "X_scaled = scaler.transform(X)\n",
    "\n",
    "# transform()시 scale 변환된 데이터 셋이 numpy ndarry로 반환되어 이를 DataFrame으로 변환\n",
    "X_scaled = pd.DataFrame(data=X_scaled, columns=X.columns)\n",
    "print('feature들의 최소 값')\n",
    "print(X_scaled.min())\n",
    "print('\\nfeature들의 최대 값')\n",
    "print(X_scaled.max())\n",
    "\n"
   ]
  },
  {
   "cell_type": "code",
   "execution_count": 100,
   "metadata": {},
   "outputs": [],
   "source": [
    "from sklearn.model_selection import train_test_split\n",
    "\n",
    "#train_test_split( )으로 학습과 테스트 데이터 분할.\n",
    "X_train, X_test, y_train, y_test = train_test_split(X_scaled, y, test_size=0.3, random_state=0, shuffle=False)"
   ]
  },
  {
   "cell_type": "code",
   "execution_count": 101,
   "metadata": {},
   "outputs": [
    {
     "name": "stdout",
     "output_type": "stream",
     "text": [
      "0    109572\n",
      "1      3779\n",
      "Name: DLQ_YN, dtype: int64\n",
      "0    47055\n",
      "1     1525\n",
      "Name: DLQ_YN, dtype: int64\n"
     ]
    }
   ],
   "source": [
    "print(y_train.value_counts())\n",
    "print(y_test.value_counts())"
   ]
  },
  {
   "cell_type": "code",
   "execution_count": 102,
   "metadata": {},
   "outputs": [
    {
     "data": {
      "text/html": [
       "<div>\n",
       "<style scoped>\n",
       "    .dataframe tbody tr th:only-of-type {\n",
       "        vertical-align: middle;\n",
       "    }\n",
       "\n",
       "    .dataframe tbody tr th {\n",
       "        vertical-align: top;\n",
       "    }\n",
       "\n",
       "    .dataframe thead th {\n",
       "        text-align: right;\n",
       "    }\n",
       "</style>\n",
       "<table border=\"1\" class=\"dataframe\">\n",
       "  <thead>\n",
       "    <tr style=\"text-align: right;\">\n",
       "      <th></th>\n",
       "      <th>GENDER</th>\n",
       "      <th>AGE</th>\n",
       "      <th>LN_AMT_SUM</th>\n",
       "      <th>LN_AMT_AVG</th>\n",
       "      <th>LN_AMT_AVG_INC</th>\n",
       "      <th>LN_CD_2_0</th>\n",
       "      <th>LN_CD_2_100</th>\n",
       "      <th>LN_CD_2_150</th>\n",
       "      <th>LN_CD_2_170</th>\n",
       "      <th>LN_CD_2_200</th>\n",
       "      <th>...</th>\n",
       "      <th>INT_GOV</th>\n",
       "      <th>INT_BENCH</th>\n",
       "      <th>INT_COFIX</th>\n",
       "      <th>CSI</th>\n",
       "      <th>CPI</th>\n",
       "      <th>LAI</th>\n",
       "      <th>M2</th>\n",
       "      <th>UNEMP_RATE</th>\n",
       "      <th>SALES_PRICE</th>\n",
       "      <th>GDP</th>\n",
       "    </tr>\n",
       "  </thead>\n",
       "  <tbody>\n",
       "    <tr>\n",
       "      <th>0</th>\n",
       "      <td>1.0</td>\n",
       "      <td>0.65625</td>\n",
       "      <td>0.006868</td>\n",
       "      <td>0.007363</td>\n",
       "      <td>0.529276</td>\n",
       "      <td>0.0</td>\n",
       "      <td>0.0</td>\n",
       "      <td>0.0</td>\n",
       "      <td>0.0</td>\n",
       "      <td>0.0</td>\n",
       "      <td>...</td>\n",
       "      <td>0.996732</td>\n",
       "      <td>0.0</td>\n",
       "      <td>0.000000</td>\n",
       "      <td>1.000000</td>\n",
       "      <td>0.116279</td>\n",
       "      <td>1.0</td>\n",
       "      <td>0.028948</td>\n",
       "      <td>0.625</td>\n",
       "      <td>0.000000</td>\n",
       "      <td>0.0</td>\n",
       "    </tr>\n",
       "    <tr>\n",
       "      <th>1</th>\n",
       "      <td>1.0</td>\n",
       "      <td>0.65625</td>\n",
       "      <td>0.006868</td>\n",
       "      <td>0.007363</td>\n",
       "      <td>0.529276</td>\n",
       "      <td>0.0</td>\n",
       "      <td>0.0</td>\n",
       "      <td>0.0</td>\n",
       "      <td>0.0</td>\n",
       "      <td>0.0</td>\n",
       "      <td>...</td>\n",
       "      <td>1.000000</td>\n",
       "      <td>0.0</td>\n",
       "      <td>0.142857</td>\n",
       "      <td>0.540816</td>\n",
       "      <td>0.000000</td>\n",
       "      <td>1.0</td>\n",
       "      <td>0.000000</td>\n",
       "      <td>0.625</td>\n",
       "      <td>0.065348</td>\n",
       "      <td>0.0</td>\n",
       "    </tr>\n",
       "    <tr>\n",
       "      <th>2</th>\n",
       "      <td>1.0</td>\n",
       "      <td>0.65625</td>\n",
       "      <td>0.006868</td>\n",
       "      <td>0.007363</td>\n",
       "      <td>0.529276</td>\n",
       "      <td>0.0</td>\n",
       "      <td>0.0</td>\n",
       "      <td>0.0</td>\n",
       "      <td>0.0</td>\n",
       "      <td>0.0</td>\n",
       "      <td>...</td>\n",
       "      <td>0.323529</td>\n",
       "      <td>0.0</td>\n",
       "      <td>0.285714</td>\n",
       "      <td>0.346939</td>\n",
       "      <td>0.534884</td>\n",
       "      <td>1.0</td>\n",
       "      <td>0.126500</td>\n",
       "      <td>1.000</td>\n",
       "      <td>0.210611</td>\n",
       "      <td>0.0</td>\n",
       "    </tr>\n",
       "  </tbody>\n",
       "</table>\n",
       "<p>3 rows × 57 columns</p>\n",
       "</div>"
      ],
      "text/plain": [
       "   GENDER      AGE  LN_AMT_SUM  LN_AMT_AVG  LN_AMT_AVG_INC  LN_CD_2_0  \\\n",
       "0     1.0  0.65625    0.006868    0.007363        0.529276        0.0   \n",
       "1     1.0  0.65625    0.006868    0.007363        0.529276        0.0   \n",
       "2     1.0  0.65625    0.006868    0.007363        0.529276        0.0   \n",
       "\n",
       "   LN_CD_2_100  LN_CD_2_150  LN_CD_2_170  LN_CD_2_200  ...   INT_GOV  \\\n",
       "0          0.0          0.0          0.0          0.0  ...  0.996732   \n",
       "1          0.0          0.0          0.0          0.0  ...  1.000000   \n",
       "2          0.0          0.0          0.0          0.0  ...  0.323529   \n",
       "\n",
       "   INT_BENCH  INT_COFIX       CSI       CPI  LAI        M2  UNEMP_RATE  \\\n",
       "0        0.0   0.000000  1.000000  0.116279  1.0  0.028948       0.625   \n",
       "1        0.0   0.142857  0.540816  0.000000  1.0  0.000000       0.625   \n",
       "2        0.0   0.285714  0.346939  0.534884  1.0  0.126500       1.000   \n",
       "\n",
       "   SALES_PRICE  GDP  \n",
       "0     0.000000  0.0  \n",
       "1     0.065348  0.0  \n",
       "2     0.210611  0.0  \n",
       "\n",
       "[3 rows x 57 columns]"
      ]
     },
     "execution_count": 102,
     "metadata": {},
     "output_type": "execute_result"
    }
   ],
   "source": [
    "X_train.head(3)"
   ]
  },
  {
   "cell_type": "code",
   "execution_count": 103,
   "metadata": {},
   "outputs": [
    {
     "data": {
      "text/html": [
       "<div>\n",
       "<style scoped>\n",
       "    .dataframe tbody tr th:only-of-type {\n",
       "        vertical-align: middle;\n",
       "    }\n",
       "\n",
       "    .dataframe tbody tr th {\n",
       "        vertical-align: top;\n",
       "    }\n",
       "\n",
       "    .dataframe thead th {\n",
       "        text-align: right;\n",
       "    }\n",
       "</style>\n",
       "<table border=\"1\" class=\"dataframe\">\n",
       "  <thead>\n",
       "    <tr style=\"text-align: right;\">\n",
       "      <th></th>\n",
       "      <th>GENDER</th>\n",
       "      <th>AGE</th>\n",
       "      <th>LN_AMT_SUM</th>\n",
       "      <th>LN_AMT_AVG</th>\n",
       "      <th>LN_AMT_AVG_INC</th>\n",
       "      <th>LN_CD_2_0</th>\n",
       "      <th>LN_CD_2_100</th>\n",
       "      <th>LN_CD_2_150</th>\n",
       "      <th>LN_CD_2_170</th>\n",
       "      <th>LN_CD_2_200</th>\n",
       "      <th>...</th>\n",
       "      <th>INT_GOV</th>\n",
       "      <th>INT_BENCH</th>\n",
       "      <th>INT_COFIX</th>\n",
       "      <th>CSI</th>\n",
       "      <th>CPI</th>\n",
       "      <th>LAI</th>\n",
       "      <th>M2</th>\n",
       "      <th>UNEMP_RATE</th>\n",
       "      <th>SALES_PRICE</th>\n",
       "      <th>GDP</th>\n",
       "    </tr>\n",
       "  </thead>\n",
       "  <tbody>\n",
       "    <tr>\n",
       "      <th>113351</th>\n",
       "      <td>0.0</td>\n",
       "      <td>0.328125</td>\n",
       "      <td>0.001060</td>\n",
       "      <td>0.000566</td>\n",
       "      <td>0.524030</td>\n",
       "      <td>0.041667</td>\n",
       "      <td>0.0</td>\n",
       "      <td>0.0</td>\n",
       "      <td>0.0</td>\n",
       "      <td>0.0</td>\n",
       "      <td>...</td>\n",
       "      <td>0.996732</td>\n",
       "      <td>0.0</td>\n",
       "      <td>0.000000</td>\n",
       "      <td>1.000000</td>\n",
       "      <td>0.116279</td>\n",
       "      <td>1.0</td>\n",
       "      <td>0.028948</td>\n",
       "      <td>0.625</td>\n",
       "      <td>0.000000</td>\n",
       "      <td>0.0</td>\n",
       "    </tr>\n",
       "    <tr>\n",
       "      <th>113352</th>\n",
       "      <td>0.0</td>\n",
       "      <td>0.328125</td>\n",
       "      <td>0.002204</td>\n",
       "      <td>0.001179</td>\n",
       "      <td>0.529962</td>\n",
       "      <td>0.041667</td>\n",
       "      <td>0.0</td>\n",
       "      <td>0.0</td>\n",
       "      <td>0.0</td>\n",
       "      <td>0.0</td>\n",
       "      <td>...</td>\n",
       "      <td>1.000000</td>\n",
       "      <td>0.0</td>\n",
       "      <td>0.142857</td>\n",
       "      <td>0.540816</td>\n",
       "      <td>0.000000</td>\n",
       "      <td>1.0</td>\n",
       "      <td>0.000000</td>\n",
       "      <td>0.625</td>\n",
       "      <td>0.065348</td>\n",
       "      <td>0.0</td>\n",
       "    </tr>\n",
       "    <tr>\n",
       "      <th>113353</th>\n",
       "      <td>0.0</td>\n",
       "      <td>0.328125</td>\n",
       "      <td>0.002597</td>\n",
       "      <td>0.000925</td>\n",
       "      <td>0.528992</td>\n",
       "      <td>0.062500</td>\n",
       "      <td>0.0</td>\n",
       "      <td>0.0</td>\n",
       "      <td>0.0</td>\n",
       "      <td>0.0</td>\n",
       "      <td>...</td>\n",
       "      <td>0.323529</td>\n",
       "      <td>0.0</td>\n",
       "      <td>0.285714</td>\n",
       "      <td>0.346939</td>\n",
       "      <td>0.534884</td>\n",
       "      <td>1.0</td>\n",
       "      <td>0.126500</td>\n",
       "      <td>1.000</td>\n",
       "      <td>0.210611</td>\n",
       "      <td>0.0</td>\n",
       "    </tr>\n",
       "  </tbody>\n",
       "</table>\n",
       "<p>3 rows × 57 columns</p>\n",
       "</div>"
      ],
      "text/plain": [
       "        GENDER       AGE  LN_AMT_SUM  LN_AMT_AVG  LN_AMT_AVG_INC  LN_CD_2_0  \\\n",
       "113351     0.0  0.328125    0.001060    0.000566        0.524030   0.041667   \n",
       "113352     0.0  0.328125    0.002204    0.001179        0.529962   0.041667   \n",
       "113353     0.0  0.328125    0.002597    0.000925        0.528992   0.062500   \n",
       "\n",
       "        LN_CD_2_100  LN_CD_2_150  LN_CD_2_170  LN_CD_2_200  ...   INT_GOV  \\\n",
       "113351          0.0          0.0          0.0          0.0  ...  0.996732   \n",
       "113352          0.0          0.0          0.0          0.0  ...  1.000000   \n",
       "113353          0.0          0.0          0.0          0.0  ...  0.323529   \n",
       "\n",
       "        INT_BENCH  INT_COFIX       CSI       CPI  LAI        M2  UNEMP_RATE  \\\n",
       "113351        0.0   0.000000  1.000000  0.116279  1.0  0.028948       0.625   \n",
       "113352        0.0   0.142857  0.540816  0.000000  1.0  0.000000       0.625   \n",
       "113353        0.0   0.285714  0.346939  0.534884  1.0  0.126500       1.000   \n",
       "\n",
       "        SALES_PRICE  GDP  \n",
       "113351     0.000000  0.0  \n",
       "113352     0.065348  0.0  \n",
       "113353     0.210611  0.0  \n",
       "\n",
       "[3 rows x 57 columns]"
      ]
     },
     "execution_count": 103,
     "metadata": {},
     "output_type": "execute_result"
    }
   ],
   "source": [
    "X_test.head(3)"
   ]
  },
  {
   "cell_type": "code",
   "execution_count": 104,
   "metadata": {},
   "outputs": [],
   "source": [
    "X_train = X_train.to_numpy()\n",
    "y_train = y_train.to_numpy()\n",
    "\n",
    "X_test = X_test.to_numpy()\n",
    "y_test = y_test.to_numpy()"
   ]
  },
  {
   "cell_type": "code",
   "execution_count": 105,
   "metadata": {},
   "outputs": [
    {
     "data": {
      "text/plain": [
       "(113351, 57)"
      ]
     },
     "execution_count": 105,
     "metadata": {},
     "output_type": "execute_result"
    }
   ],
   "source": [
    "X_train.shape"
   ]
  },
  {
   "cell_type": "code",
   "execution_count": 106,
   "metadata": {},
   "outputs": [
    {
     "name": "stdout",
     "output_type": "stream",
     "text": [
      "(16193, 7, 57)\n",
      "(6940, 7, 57)\n",
      "(16193, 7, 1)\n",
      "(6940, 7, 1)\n"
     ]
    }
   ],
   "source": [
    "X_train = X_train.reshape(-1, 7, 57)\n",
    "y_train = y_train.reshape(-1,7,1)\n",
    "\n",
    "X_test = X_test.reshape(-1, 7, 57)\n",
    "y_test = y_test.reshape(-1,7,1)\n",
    "\n",
    "print(X_train.shape)\n",
    "print(X_test.shape)\n",
    "\n",
    "print(y_train.shape)\n",
    "print(y_test.shape)"
   ]
  },
  {
   "cell_type": "code",
   "execution_count": 107,
   "metadata": {},
   "outputs": [
    {
     "data": {
      "text/plain": [
       "array([[[1.00000000e+00, 6.56250000e-01, 6.86797677e-03, ...,\n",
       "         6.25000000e-01, 0.00000000e+00, 0.00000000e+00],\n",
       "        [1.00000000e+00, 6.56250000e-01, 6.86797677e-03, ...,\n",
       "         6.25000000e-01, 6.53481224e-02, 0.00000000e+00],\n",
       "        [1.00000000e+00, 6.56250000e-01, 6.86797677e-03, ...,\n",
       "         1.00000000e+00, 2.10610718e-01, 0.00000000e+00],\n",
       "        ...,\n",
       "        [1.00000000e+00, 6.56250000e-01, 6.86797677e-03, ...,\n",
       "         3.75000000e-01, 9.32914606e-01, 0.00000000e+00],\n",
       "        [1.00000000e+00, 6.56250000e-01, 6.86797677e-03, ...,\n",
       "         0.00000000e+00, 9.85433650e-01, 0.00000000e+00],\n",
       "        [1.00000000e+00, 6.56250000e-01, 6.86797677e-03, ...,\n",
       "         2.50000000e-01, 1.00000000e+00, 0.00000000e+00]],\n",
       "\n",
       "       [[0.00000000e+00, 3.12500000e-02, 2.10604863e-03, ...,\n",
       "         6.25000000e-01, 0.00000000e+00, 0.00000000e+00],\n",
       "        [0.00000000e+00, 3.12500000e-02, 2.10604863e-03, ...,\n",
       "         6.25000000e-01, 6.53481224e-02, 0.00000000e+00],\n",
       "        [0.00000000e+00, 3.12500000e-02, 2.10604863e-03, ...,\n",
       "         1.00000000e+00, 2.10610718e-01, 0.00000000e+00],\n",
       "        ...,\n",
       "        [0.00000000e+00, 3.12500000e-02, 2.10604863e-03, ...,\n",
       "         3.75000000e-01, 9.32914606e-01, 0.00000000e+00],\n",
       "        [0.00000000e+00, 3.12500000e-02, 2.10604863e-03, ...,\n",
       "         0.00000000e+00, 9.85433650e-01, 0.00000000e+00],\n",
       "        [0.00000000e+00, 3.12500000e-02, 2.10604863e-03, ...,\n",
       "         2.50000000e-01, 1.00000000e+00, 0.00000000e+00]],\n",
       "\n",
       "       [[0.00000000e+00, 9.21875000e-01, 3.09230777e-02, ...,\n",
       "         6.25000000e-01, 0.00000000e+00, 0.00000000e+00],\n",
       "        [0.00000000e+00, 9.21875000e-01, 3.09230777e-02, ...,\n",
       "         6.25000000e-01, 6.53481224e-02, 0.00000000e+00],\n",
       "        [0.00000000e+00, 9.21875000e-01, 3.09230777e-02, ...,\n",
       "         1.00000000e+00, 2.10610718e-01, 0.00000000e+00],\n",
       "        ...,\n",
       "        [0.00000000e+00, 9.21875000e-01, 3.09230777e-02, ...,\n",
       "         3.75000000e-01, 9.32914606e-01, 0.00000000e+00],\n",
       "        [0.00000000e+00, 9.21875000e-01, 3.09230777e-02, ...,\n",
       "         0.00000000e+00, 9.85433650e-01, 0.00000000e+00],\n",
       "        [0.00000000e+00, 9.21875000e-01, 3.09230777e-02, ...,\n",
       "         2.50000000e-01, 1.00000000e+00, 0.00000000e+00]],\n",
       "\n",
       "       ...,\n",
       "\n",
       "       [[0.00000000e+00, 9.37500000e-02, 9.18021198e-04, ...,\n",
       "         6.25000000e-01, 0.00000000e+00, 0.00000000e+00],\n",
       "        [0.00000000e+00, 9.37500000e-02, 9.18021198e-04, ...,\n",
       "         6.25000000e-01, 6.53481224e-02, 0.00000000e+00],\n",
       "        [0.00000000e+00, 9.37500000e-02, 9.18021198e-04, ...,\n",
       "         1.00000000e+00, 2.10610718e-01, 0.00000000e+00],\n",
       "        ...,\n",
       "        [0.00000000e+00, 9.37500000e-02, 9.18021198e-04, ...,\n",
       "         3.75000000e-01, 9.32914606e-01, 0.00000000e+00],\n",
       "        [0.00000000e+00, 9.37500000e-02, 9.18021198e-04, ...,\n",
       "         0.00000000e+00, 9.85433650e-01, 0.00000000e+00],\n",
       "        [0.00000000e+00, 9.37500000e-02, 9.18021198e-04, ...,\n",
       "         2.50000000e-01, 1.00000000e+00, 0.00000000e+00]],\n",
       "\n",
       "       [[0.00000000e+00, 3.28125000e-01, 1.57045445e-02, ...,\n",
       "         6.25000000e-01, 0.00000000e+00, 0.00000000e+00],\n",
       "        [0.00000000e+00, 3.28125000e-01, 1.57045445e-02, ...,\n",
       "         6.25000000e-01, 6.53481224e-02, 0.00000000e+00],\n",
       "        [0.00000000e+00, 3.28125000e-01, 1.57045445e-02, ...,\n",
       "         1.00000000e+00, 2.10610718e-01, 0.00000000e+00],\n",
       "        ...,\n",
       "        [0.00000000e+00, 3.28125000e-01, 1.57045445e-02, ...,\n",
       "         3.75000000e-01, 9.32914606e-01, 0.00000000e+00],\n",
       "        [0.00000000e+00, 3.28125000e-01, 1.57045445e-02, ...,\n",
       "         0.00000000e+00, 9.85433650e-01, 0.00000000e+00],\n",
       "        [0.00000000e+00, 3.28125000e-01, 1.57045445e-02, ...,\n",
       "         2.50000000e-01, 1.00000000e+00, 0.00000000e+00]],\n",
       "\n",
       "       [[0.00000000e+00, 5.15625000e-01, 2.64944845e-01, ...,\n",
       "         6.25000000e-01, 0.00000000e+00, 0.00000000e+00],\n",
       "        [0.00000000e+00, 5.15625000e-01, 2.68430380e-01, ...,\n",
       "         6.25000000e-01, 6.53481224e-02, 0.00000000e+00],\n",
       "        [0.00000000e+00, 5.15625000e-01, 2.68430380e-01, ...,\n",
       "         1.00000000e+00, 2.10610718e-01, 0.00000000e+00],\n",
       "        ...,\n",
       "        [0.00000000e+00, 5.15625000e-01, 2.64944845e-01, ...,\n",
       "         3.75000000e-01, 9.32914606e-01, 0.00000000e+00],\n",
       "        [0.00000000e+00, 5.15625000e-01, 2.64944845e-01, ...,\n",
       "         0.00000000e+00, 9.85433650e-01, 0.00000000e+00],\n",
       "        [0.00000000e+00, 5.15625000e-01, 2.30580415e-01, ...,\n",
       "         2.50000000e-01, 1.00000000e+00, 0.00000000e+00]]])"
      ]
     },
     "execution_count": 107,
     "metadata": {},
     "output_type": "execute_result"
    }
   ],
   "source": [
    "X_train"
   ]
  },
  {
   "cell_type": "markdown",
   "metadata": {},
   "source": [
    "# model_3"
   ]
  },
  {
   "cell_type": "code",
   "execution_count": 135,
   "metadata": {},
   "outputs": [],
   "source": [
    "dropout = tf.keras.layers.Dropout(0.1)\n",
    "\n",
    "model3 = Sequential()\n",
    "model3.add(LSTM(57, input_shape=(7, 57), return_sequences=True, activation='sigmoid'))\n",
    "model3.add(dropout)\n",
    "model3.add(LSTM(16, return_sequences=True))\n",
    "model3.add(Dense(1, activation='sigmoid'))\n",
    "\n",
    "model3.compile(optimizer='adam', loss='binary_crossentropy', metrics=[tf.keras.metrics.Recall(), tf.keras.metrics.AUC(), tf.keras.metrics.Precision() ])"
   ]
  },
  {
   "cell_type": "code",
   "execution_count": 136,
   "metadata": {},
   "outputs": [
    {
     "name": "stdout",
     "output_type": "stream",
     "text": [
      "Model: \"sequential_5\"\n",
      "_________________________________________________________________\n",
      "Layer (type)                 Output Shape              Param #   \n",
      "=================================================================\n",
      "lstm_8 (LSTM)                (None, 7, 57)             26220     \n",
      "_________________________________________________________________\n",
      "dropout_5 (Dropout)          (None, 7, 57)             0         \n",
      "_________________________________________________________________\n",
      "lstm_9 (LSTM)                (None, 7, 16)             4736      \n",
      "_________________________________________________________________\n",
      "dense_6 (Dense)              (None, 7, 1)              17        \n",
      "=================================================================\n",
      "Total params: 30,973\n",
      "Trainable params: 30,973\n",
      "Non-trainable params: 0\n",
      "_________________________________________________________________\n"
     ]
    }
   ],
   "source": [
    "model3.summary()"
   ]
  },
  {
   "cell_type": "code",
   "execution_count": 138,
   "metadata": {},
   "outputs": [
    {
     "name": "stdout",
     "output_type": "stream",
     "text": [
      "Epoch 1/300\n",
      "405/405 [==============================] - 2s 6ms/step - loss: 0.0649 - recall_5: 0.4555 - auc_5: 0.9715 - precision_5: 0.7493 - val_loss: 0.0581 - val_recall_5: 0.6111 - val_auc_5: 0.9907 - val_precision_5: 0.7671\n",
      "Epoch 2/300\n",
      "405/405 [==============================] - 2s 6ms/step - loss: 0.0505 - recall_5: 0.5973 - auc_5: 0.9828 - precision_5: 0.7691 - val_loss: 0.0476 - val_recall_5: 0.6998 - val_auc_5: 0.9934 - val_precision_5: 0.7851\n",
      "Epoch 3/300\n",
      "405/405 [==============================] - 2s 6ms/step - loss: 0.0426 - recall_5: 0.6877 - auc_5: 0.9880 - precision_5: 0.7797 - val_loss: 0.0414 - val_recall_5: 0.7128 - val_auc_5: 0.9940 - val_precision_5: 0.7987\n",
      "Epoch 4/300\n",
      "405/405 [==============================] - 2s 6ms/step - loss: 0.0382 - recall_5: 0.7351 - auc_5: 0.9900 - precision_5: 0.7834 - val_loss: 0.0373 - val_recall_5: 0.7470 - val_auc_5: 0.9946 - val_precision_5: 0.8041\n",
      "Epoch 5/300\n",
      "405/405 [==============================] - 2s 6ms/step - loss: 0.0346 - recall_5: 0.7750 - auc_5: 0.9918 - precision_5: 0.7862 - val_loss: 0.0347 - val_recall_5: 0.7825 - val_auc_5: 0.9951 - val_precision_5: 0.8103\n",
      "Epoch 6/300\n",
      "405/405 [==============================] - 2s 6ms/step - loss: 0.0321 - recall_5: 0.8043 - auc_5: 0.9936 - precision_5: 0.7884 - val_loss: 0.0327 - val_recall_5: 0.8085 - val_auc_5: 0.9953 - val_precision_5: 0.8057\n",
      "Epoch 7/300\n",
      "405/405 [==============================] - 2s 5ms/step - loss: 0.0309 - recall_5: 0.8210 - auc_5: 0.9936 - precision_5: 0.7846 - val_loss: 0.0313 - val_recall_5: 0.8144 - val_auc_5: 0.9955 - val_precision_5: 0.8106\n",
      "Epoch 8/300\n",
      "405/405 [==============================] - 2s 5ms/step - loss: 0.0294 - recall_5: 0.8377 - auc_5: 0.9948 - precision_5: 0.7913 - val_loss: 0.0302 - val_recall_5: 0.8191 - val_auc_5: 0.9956 - val_precision_5: 0.8115\n",
      "Epoch 9/300\n",
      "405/405 [==============================] - 2s 5ms/step - loss: 0.0281 - recall_5: 0.8510 - auc_5: 0.9950 - precision_5: 0.7896 - val_loss: 0.0293 - val_recall_5: 0.8274 - val_auc_5: 0.9957 - val_precision_5: 0.8159\n",
      "Epoch 10/300\n",
      "405/405 [==============================] - 2s 5ms/step - loss: 0.0277 - recall_5: 0.8623 - auc_5: 0.9953 - precision_5: 0.7898 - val_loss: 0.0285 - val_recall_5: 0.8487 - val_auc_5: 0.9958 - val_precision_5: 0.8187\n",
      "Epoch 11/300\n",
      "405/405 [==============================] - 2s 5ms/step - loss: 0.0263 - recall_5: 0.8756 - auc_5: 0.9957 - precision_5: 0.7963 - val_loss: 0.0280 - val_recall_5: 0.8499 - val_auc_5: 0.9959 - val_precision_5: 0.8180\n",
      "Epoch 12/300\n",
      "405/405 [==============================] - 2s 6ms/step - loss: 0.0256 - recall_5: 0.8752 - auc_5: 0.9962 - precision_5: 0.7979 - val_loss: 0.0278 - val_recall_5: 0.8428 - val_auc_5: 0.9960 - val_precision_5: 0.8205\n",
      "Epoch 13/300\n",
      "405/405 [==============================] - 2s 5ms/step - loss: 0.0248 - recall_5: 0.8848 - auc_5: 0.9965 - precision_5: 0.7950 - val_loss: 0.0273 - val_recall_5: 0.8452 - val_auc_5: 0.9961 - val_precision_5: 0.8162\n",
      "Epoch 14/300\n",
      "405/405 [==============================] - 2s 6ms/step - loss: 0.0242 - recall_5: 0.8902 - auc_5: 0.9965 - precision_5: 0.7999 - val_loss: 0.0268 - val_recall_5: 0.8641 - val_auc_5: 0.9961 - val_precision_5: 0.8195\n",
      "Epoch 15/300\n",
      "405/405 [==============================] - 2s 5ms/step - loss: 0.0244 - recall_5: 0.8916 - auc_5: 0.9961 - precision_5: 0.8014 - val_loss: 0.0269 - val_recall_5: 0.8392 - val_auc_5: 0.9962 - val_precision_5: 0.8265\n",
      "Epoch 16/300\n",
      "405/405 [==============================] - 2s 6ms/step - loss: 0.0234 - recall_5: 0.8926 - auc_5: 0.9968 - precision_5: 0.8026 - val_loss: 0.0263 - val_recall_5: 0.8605 - val_auc_5: 0.9962 - val_precision_5: 0.8207\n",
      "Epoch 17/300\n",
      "405/405 [==============================] - 2s 6ms/step - loss: 0.0233 - recall_5: 0.8977 - auc_5: 0.9971 - precision_5: 0.8032 - val_loss: 0.0264 - val_recall_5: 0.8463 - val_auc_5: 0.9963 - val_precision_5: 0.8239\n",
      "Epoch 18/300\n",
      "405/405 [==============================] - 2s 5ms/step - loss: 0.0228 - recall_5: 0.8981 - auc_5: 0.9972 - precision_5: 0.8038 - val_loss: 0.0260 - val_recall_5: 0.8534 - val_auc_5: 0.9963 - val_precision_5: 0.8205\n",
      "Epoch 19/300\n",
      "405/405 [==============================] - 2s 6ms/step - loss: 0.0228 - recall_5: 0.9001 - auc_5: 0.9971 - precision_5: 0.8054 - val_loss: 0.0261 - val_recall_5: 0.8522 - val_auc_5: 0.9958 - val_precision_5: 0.8212\n",
      "Epoch 20/300\n",
      "405/405 [==============================] - 2s 6ms/step - loss: 0.0222 - recall_5: 0.8981 - auc_5: 0.9970 - precision_5: 0.8077 - val_loss: 0.0258 - val_recall_5: 0.8522 - val_auc_5: 0.9958 - val_precision_5: 0.8203\n",
      "Epoch 21/300\n",
      "405/405 [==============================] - 2s 6ms/step - loss: 0.0220 - recall_5: 0.9056 - auc_5: 0.9974 - precision_5: 0.8083 - val_loss: 0.0259 - val_recall_5: 0.8416 - val_auc_5: 0.9953 - val_precision_5: 0.8203\n"
     ]
    }
   ],
   "source": [
    "early_stopping = tf.keras.callbacks.EarlyStopping(monitor='auc_5', patience=20, min_delta=0.01, restore_best_weights=True)\n",
    "\n",
    "history3 = model3.fit(X_train, y_train, epochs=300, verbose=1, callbacks=[early_stopping], validation_split=0.2, shuffle=False)"
   ]
  },
  {
   "cell_type": "code",
   "execution_count": 1,
   "metadata": {},
   "outputs": [
    {
     "ename": "NameError",
     "evalue": "name 'model3' is not defined",
     "output_type": "error",
     "traceback": [
      "\u001b[1;31m---------------------------------------------------------------------------\u001b[0m",
      "\u001b[1;31mNameError\u001b[0m                                 Traceback (most recent call last)",
      "\u001b[1;32m<ipython-input-1-a4110487ba88>\u001b[0m in \u001b[0;36m<module>\u001b[1;34m\u001b[0m\n\u001b[1;32m----> 1\u001b[1;33m \u001b[0mpred\u001b[0m \u001b[1;33m=\u001b[0m \u001b[0mmodel3\u001b[0m\u001b[1;33m.\u001b[0m\u001b[0mpredict\u001b[0m\u001b[1;33m(\u001b[0m\u001b[0mX_test\u001b[0m\u001b[1;33m,\u001b[0m \u001b[0mbatch_size\u001b[0m\u001b[1;33m=\u001b[0m\u001b[1;36m1\u001b[0m\u001b[1;33m,\u001b[0m \u001b[0mverbose\u001b[0m \u001b[1;33m=\u001b[0m \u001b[1;36m1\u001b[0m\u001b[1;33m)\u001b[0m\u001b[1;33m\u001b[0m\u001b[1;33m\u001b[0m\u001b[0m\n\u001b[0m",
      "\u001b[1;31mNameError\u001b[0m: name 'model3' is not defined"
     ]
    }
   ],
   "source": [
    "pred = model3.predict(X_test, batch_size=1, verbose = 1)"
   ]
  },
  {
   "cell_type": "code",
   "execution_count": 140,
   "metadata": {},
   "outputs": [
    {
     "data": {
      "text/plain": [
       "(6940, 7, 1)"
      ]
     },
     "execution_count": 140,
     "metadata": {},
     "output_type": "execute_result"
    }
   ],
   "source": [
    "pred.shape"
   ]
  },
  {
   "cell_type": "code",
   "execution_count": 141,
   "metadata": {},
   "outputs": [
    {
     "name": "stdout",
     "output_type": "stream",
     "text": [
      "217/217 [==============================] - 0s 2ms/step - loss: 0.0534 - recall_5: 0.6026 - auc_5: 0.9887 - precision_5: 0.7231\n"
     ]
    },
    {
     "data": {
      "text/plain": [
       "[0.05340779200196266,\n",
       " 0.602622926235199,\n",
       " 0.9886870384216309,\n",
       " 0.7230527400970459]"
      ]
     },
     "execution_count": 141,
     "metadata": {},
     "output_type": "execute_result"
    }
   ],
   "source": [
    "model3.evaluate(X_test, y_test, verbose=1)"
   ]
  },
  {
   "cell_type": "code",
   "execution_count": 142,
   "metadata": {},
   "outputs": [
    {
     "data": {
      "text/plain": [
       "[<matplotlib.lines.Line2D at 0x2550e6490d0>]"
      ]
     },
     "execution_count": 142,
     "metadata": {},
     "output_type": "execute_result"
    },
    {
     "data": {
      "image/png": "[encoded data removed]",
      "text/plain": [
       "<Figure size 720x504 with 8 Axes>"
      ]
     },
     "metadata": {
      "needs_background": "light"
     },
     "output_type": "display_data"
    }
   ],
   "source": [
    "# import matplotlib.pyplot as plt\n",
    "fig, ax = plt.subplots(2, 4, figsize=(10, 7))\n",
    "\n",
    "ax[0, 0].set_title('loss')\n",
    "ax[0, 0].plot(history3.history['loss'], 'r')\n",
    "ax[0, 1].set_title('auc')\n",
    "ax[0, 1].plot(history3.history['auc_5'], 'b')\n",
    "ax[0, 2].set_title('recall')\n",
    "ax[0, 2].plot(history3.history['recall_5'], 'g')\n",
    "ax[0, 3].set_title('precision')\n",
    "ax[0, 3].plot(history3.history['precision_5'], 'm')\n",
    "\n",
    "\n",
    "ax[1, 0].set_title('val_loss')\n",
    "ax[1, 0].plot(history3.history['val_loss'], 'r--')\n",
    "ax[1, 1].set_title('val_accuracy')\n",
    "ax[1, 1].plot(history3.history['val_auc_5'], 'b--')\n",
    "ax[1, 2].set_title('val_recall')\n",
    "ax[1, 2].plot(history3.history['val_recall_5'], 'g')\n",
    "\n",
    "ax[1, 3].set_title('val_precision')\n",
    "ax[1, 3].plot(history3.history['val_precision_5'], 'm')\n"
   ]
  },
  {
   "cell_type": "code",
   "execution_count": 143,
   "metadata": {},
   "outputs": [],
   "source": [
    "import shap"
   ]
  },
  {
   "cell_type": "code",
   "execution_count": 144,
   "metadata": {},
   "outputs": [],
   "source": [
    "X_t = X_train[:,0]"
   ]
  },
  {
   "cell_type": "code",
   "execution_count": 145,
   "metadata": {},
   "outputs": [],
   "source": [
    "a_train = X_t[0:10001]"
   ]
  },
  {
   "cell_type": "code",
   "execution_count": 146,
   "metadata": {},
   "outputs": [
    {
     "data": {
      "text/plain": [
       "(10000, 57)"
      ]
     },
     "execution_count": 146,
     "metadata": {},
     "output_type": "execute_result"
    }
   ],
   "source": [
    "a_train.shape"
   ]
  },
  {
   "cell_type": "code",
   "execution_count": 147,
   "metadata": {},
   "outputs": [],
   "source": [
    "X_s = X_test[:,0]"
   ]
  },
  {
   "cell_type": "code",
   "execution_count": 148,
   "metadata": {},
   "outputs": [],
   "source": [
    "a_test = X_s[0:1000]"
   ]
  },
  {
   "cell_type": "code",
   "execution_count": 149,
   "metadata": {},
   "outputs": [
    {
     "data": {
      "text/plain": [
       "(1000, 57)"
      ]
     },
     "execution_count": 149,
     "metadata": {},
     "output_type": "execute_result"
    }
   ],
   "source": [
    "a_test.shape"
   ]
  },
  {
   "cell_type": "code",
   "execution_count": 150,
   "metadata": {},
   "outputs": [],
   "source": [
    "a_pred = pred[:,0]"
   ]
  },
  {
   "cell_type": "code",
   "execution_count": 151,
   "metadata": {},
   "outputs": [
    {
     "data": {
      "text/plain": [
       "array([[0.02980131],\n",
       "       [0.02730256],\n",
       "       [0.03392684],\n",
       "       ...,\n",
       "       [0.01935673],\n",
       "       [0.03144878],\n",
       "       [0.03260192]], dtype=float32)"
      ]
     },
     "execution_count": 151,
     "metadata": {},
     "output_type": "execute_result"
    }
   ],
   "source": [
    "a_pred"
   ]
  },
  {
   "cell_type": "code",
   "execution_count": 152,
   "metadata": {},
   "outputs": [],
   "source": [
    "explainer = shap.Explainer(model3, a_train)"
   ]
  },
  {
   "cell_type": "code",
   "execution_count": 153,
   "metadata": {},
   "outputs": [
    {
     "ename": "ValueError",
     "evalue": "Input 0 of layer sequential_5 is incompatible with the layer: expected ndim=3, found ndim=2. Full shape received: (2230, 57)",
     "output_type": "error",
     "traceback": [
      "\u001b[1;31m---------------------------------------------------------------------------\u001b[0m",
      "\u001b[1;31mValueError\u001b[0m                                Traceback (most recent call last)",
      "\u001b[1;32m<ipython-input-153-e867c44ba87d>\u001b[0m in \u001b[0;36m<module>\u001b[1;34m\u001b[0m\n\u001b[1;32m----> 1\u001b[1;33m \u001b[0mshap_values\u001b[0m \u001b[1;33m=\u001b[0m \u001b[0mexplainer\u001b[0m\u001b[1;33m.\u001b[0m\u001b[0mshap_values\u001b[0m\u001b[1;33m(\u001b[0m\u001b[0ma_test\u001b[0m\u001b[1;33m)\u001b[0m\u001b[1;33m\u001b[0m\u001b[1;33m\u001b[0m\u001b[0m\n\u001b[0m",
      "\u001b[1;32mC:\\Anaconda\\lib\\site-packages\\shap\\explainers\\_permutation.py\u001b[0m in \u001b[0;36mshap_values\u001b[1;34m(self, X, npermutations, main_effects, error_bounds, batch_evals, silent)\u001b[0m\n\u001b[0;32m    152\u001b[0m         \"\"\"\n\u001b[0;32m    153\u001b[0m \u001b[1;33m\u001b[0m\u001b[0m\n\u001b[1;32m--> 154\u001b[1;33m         \u001b[0mexplanation\u001b[0m \u001b[1;33m=\u001b[0m \u001b[0mself\u001b[0m\u001b[1;33m(\u001b[0m\u001b[0mX\u001b[0m\u001b[1;33m,\u001b[0m \u001b[0mmax_evals\u001b[0m\u001b[1;33m=\u001b[0m\u001b[0mnpermutations\u001b[0m \u001b[1;33m*\u001b[0m \u001b[0mX\u001b[0m\u001b[1;33m.\u001b[0m\u001b[0mshape\u001b[0m\u001b[1;33m[\u001b[0m\u001b[1;36m1\u001b[0m\u001b[1;33m]\u001b[0m\u001b[1;33m,\u001b[0m \u001b[0mmain_effects\u001b[0m\u001b[1;33m=\u001b[0m\u001b[0mmain_effects\u001b[0m\u001b[1;33m)\u001b[0m\u001b[1;33m\u001b[0m\u001b[1;33m\u001b[0m\u001b[0m\n\u001b[0m\u001b[0;32m    155\u001b[0m         \u001b[1;32mreturn\u001b[0m \u001b[0mexplanation\u001b[0m\u001b[1;33m.\u001b[0m\u001b[0m_old_format\u001b[0m\u001b[1;33m(\u001b[0m\u001b[1;33m)\u001b[0m\u001b[1;33m\u001b[0m\u001b[1;33m\u001b[0m\u001b[0m\n",
      "\u001b[1;32mC:\\Anaconda\\lib\\site-packages\\shap\\explainers\\_explainer.py\u001b[0m in \u001b[0;36m__call__\u001b[1;34m(self, max_evals, main_effects, error_bounds, batch_size, outputs, silent, *args, **kwargs)\u001b[0m\n\u001b[0;32m    253\u001b[0m             \u001b[0mfeature_names\u001b[0m \u001b[1;33m=\u001b[0m \u001b[1;33m[\u001b[0m\u001b[1;33m[\u001b[0m\u001b[1;33m]\u001b[0m \u001b[1;32mfor\u001b[0m \u001b[0m_\u001b[0m \u001b[1;32min\u001b[0m \u001b[0mrange\u001b[0m\u001b[1;33m(\u001b[0m\u001b[0mlen\u001b[0m\u001b[1;33m(\u001b[0m\u001b[0margs\u001b[0m\u001b[1;33m)\u001b[0m\u001b[1;33m)\u001b[0m\u001b[1;33m]\u001b[0m\u001b[1;33m\u001b[0m\u001b[1;33m\u001b[0m\u001b[0m\n\u001b[0;32m    254\u001b[0m         \u001b[1;32mfor\u001b[0m \u001b[0mrow_args\u001b[0m \u001b[1;32min\u001b[0m \u001b[0mshow_progress\u001b[0m\u001b[1;33m(\u001b[0m\u001b[0mzip\u001b[0m\u001b[1;33m(\u001b[0m\u001b[1;33m*\u001b[0m\u001b[0margs\u001b[0m\u001b[1;33m)\u001b[0m\u001b[1;33m,\u001b[0m \u001b[0mnum_rows\u001b[0m\u001b[1;33m,\u001b[0m \u001b[0mself\u001b[0m\u001b[1;33m.\u001b[0m\u001b[0m__class__\u001b[0m\u001b[1;33m.\u001b[0m\u001b[0m__name__\u001b[0m\u001b[1;33m+\u001b[0m\u001b[1;34m\" explainer\"\u001b[0m\u001b[1;33m,\u001b[0m \u001b[0msilent\u001b[0m\u001b[1;33m)\u001b[0m\u001b[1;33m:\u001b[0m\u001b[1;33m\u001b[0m\u001b[1;33m\u001b[0m\u001b[0m\n\u001b[1;32m--> 255\u001b[1;33m             row_result = self.explain_row(\n\u001b[0m\u001b[0;32m    256\u001b[0m                 \u001b[1;33m*\u001b[0m\u001b[0mrow_args\u001b[0m\u001b[1;33m,\u001b[0m \u001b[0mmax_evals\u001b[0m\u001b[1;33m=\u001b[0m\u001b[0mmax_evals\u001b[0m\u001b[1;33m,\u001b[0m \u001b[0mmain_effects\u001b[0m\u001b[1;33m=\u001b[0m\u001b[0mmain_effects\u001b[0m\u001b[1;33m,\u001b[0m \u001b[0merror_bounds\u001b[0m\u001b[1;33m=\u001b[0m\u001b[0merror_bounds\u001b[0m\u001b[1;33m,\u001b[0m\u001b[1;33m\u001b[0m\u001b[1;33m\u001b[0m\u001b[0m\n\u001b[0;32m    257\u001b[0m                 \u001b[0mbatch_size\u001b[0m\u001b[1;33m=\u001b[0m\u001b[0mbatch_size\u001b[0m\u001b[1;33m,\u001b[0m \u001b[0moutputs\u001b[0m\u001b[1;33m=\u001b[0m\u001b[0moutputs\u001b[0m\u001b[1;33m,\u001b[0m \u001b[0msilent\u001b[0m\u001b[1;33m=\u001b[0m\u001b[0msilent\u001b[0m\u001b[1;33m,\u001b[0m \u001b[1;33m**\u001b[0m\u001b[0mkwargs\u001b[0m\u001b[1;33m\u001b[0m\u001b[1;33m\u001b[0m\u001b[0m\n",
      "\u001b[1;32mC:\\Anaconda\\lib\\site-packages\\shap\\explainers\\_permutation.py\u001b[0m in \u001b[0;36mexplain_row\u001b[1;34m(self, max_evals, main_effects, error_bounds, batch_size, outputs, silent, *row_args)\u001b[0m\n\u001b[0;32m     97\u001b[0m \u001b[1;33m\u001b[0m\u001b[0m\n\u001b[0;32m     98\u001b[0m                 \u001b[1;31m# evaluate the masked model\u001b[0m\u001b[1;33m\u001b[0m\u001b[1;33m\u001b[0m\u001b[1;33m\u001b[0m\u001b[0m\n\u001b[1;32m---> 99\u001b[1;33m                 \u001b[0moutputs\u001b[0m \u001b[1;33m=\u001b[0m \u001b[0mfm\u001b[0m\u001b[1;33m(\u001b[0m\u001b[0mmasks\u001b[0m\u001b[1;33m,\u001b[0m \u001b[0mbatch_size\u001b[0m\u001b[1;33m=\u001b[0m\u001b[0mbatch_size\u001b[0m\u001b[1;33m)\u001b[0m\u001b[1;33m\u001b[0m\u001b[1;33m\u001b[0m\u001b[0m\n\u001b[0m\u001b[0;32m    100\u001b[0m \u001b[1;33m\u001b[0m\u001b[0m\n\u001b[0;32m    101\u001b[0m                 \u001b[1;32mif\u001b[0m \u001b[0mrow_values\u001b[0m \u001b[1;32mis\u001b[0m \u001b[1;32mNone\u001b[0m\u001b[1;33m:\u001b[0m\u001b[1;33m\u001b[0m\u001b[1;33m\u001b[0m\u001b[0m\n",
      "\u001b[1;32mC:\\Anaconda\\lib\\site-packages\\shap\\utils\\_masked_model.py\u001b[0m in \u001b[0;36m__call__\u001b[1;34m(self, masks, batch_size)\u001b[0m\n\u001b[0;32m     49\u001b[0m         \u001b[1;32mif\u001b[0m \u001b[0mlen\u001b[0m\u001b[1;33m(\u001b[0m\u001b[0mmasks\u001b[0m\u001b[1;33m.\u001b[0m\u001b[0mshape\u001b[0m\u001b[1;33m)\u001b[0m \u001b[1;33m==\u001b[0m \u001b[1;36m1\u001b[0m\u001b[1;33m:\u001b[0m\u001b[1;33m\u001b[0m\u001b[1;33m\u001b[0m\u001b[0m\n\u001b[0;32m     50\u001b[0m             \u001b[1;32mif\u001b[0m \u001b[0mgetattr\u001b[0m\u001b[1;33m(\u001b[0m\u001b[0mself\u001b[0m\u001b[1;33m.\u001b[0m\u001b[0mmasker\u001b[0m\u001b[1;33m,\u001b[0m \u001b[1;34m\"supports_delta_masking\"\u001b[0m\u001b[1;33m,\u001b[0m \u001b[1;32mFalse\u001b[0m\u001b[1;33m)\u001b[0m\u001b[1;33m:\u001b[0m\u001b[1;33m\u001b[0m\u001b[1;33m\u001b[0m\u001b[0m\n\u001b[1;32m---> 51\u001b[1;33m                 \u001b[1;32mreturn\u001b[0m \u001b[0mself\u001b[0m\u001b[1;33m.\u001b[0m\u001b[0m_delta_masking_call\u001b[0m\u001b[1;33m(\u001b[0m\u001b[0mmasks\u001b[0m\u001b[1;33m,\u001b[0m \u001b[0mbatch_size\u001b[0m\u001b[1;33m=\u001b[0m\u001b[0mbatch_size\u001b[0m\u001b[1;33m)\u001b[0m\u001b[1;33m\u001b[0m\u001b[1;33m\u001b[0m\u001b[0m\n\u001b[0m\u001b[0;32m     52\u001b[0m \u001b[1;33m\u001b[0m\u001b[0m\n\u001b[0;32m     53\u001b[0m             \u001b[1;31m# we need to convert from delta masking to a full masking call because we were given a delta masking\u001b[0m\u001b[1;33m\u001b[0m\u001b[1;33m\u001b[0m\u001b[1;33m\u001b[0m\u001b[0m\n",
      "\u001b[1;32mC:\\Anaconda\\lib\\site-packages\\shap\\utils\\_masked_model.py\u001b[0m in \u001b[0;36m_delta_masking_call\u001b[1;34m(self, masks, batch_size)\u001b[0m\n\u001b[0;32m    185\u001b[0m \u001b[1;33m\u001b[0m\u001b[0m\n\u001b[0;32m    186\u001b[0m         \u001b[1;31m# joined_masked_inputs = self._stack_inputs(all_masked_inputs)\u001b[0m\u001b[1;33m\u001b[0m\u001b[1;33m\u001b[0m\u001b[1;33m\u001b[0m\u001b[0m\n\u001b[1;32m--> 187\u001b[1;33m         \u001b[0moutputs\u001b[0m \u001b[1;33m=\u001b[0m \u001b[0mself\u001b[0m\u001b[1;33m.\u001b[0m\u001b[0mmodel\u001b[0m\u001b[1;33m(\u001b[0m\u001b[1;33m*\u001b[0m\u001b[0msubset_masked_inputs\u001b[0m\u001b[1;33m)\u001b[0m\u001b[1;33m\u001b[0m\u001b[1;33m\u001b[0m\u001b[0m\n\u001b[0m\u001b[0;32m    188\u001b[0m         \u001b[0m_assert_output_input_match\u001b[0m\u001b[1;33m(\u001b[0m\u001b[0msubset_masked_inputs\u001b[0m\u001b[1;33m,\u001b[0m \u001b[0moutputs\u001b[0m\u001b[1;33m)\u001b[0m\u001b[1;33m\u001b[0m\u001b[1;33m\u001b[0m\u001b[0m\n\u001b[0;32m    189\u001b[0m \u001b[1;33m\u001b[0m\u001b[0m\n",
      "\u001b[1;32mC:\\Anaconda\\lib\\site-packages\\shap\\models\\_model.py\u001b[0m in \u001b[0;36m__call__\u001b[1;34m(self, *args)\u001b[0m\n\u001b[0;32m     15\u001b[0m \u001b[1;33m\u001b[0m\u001b[0m\n\u001b[0;32m     16\u001b[0m     \u001b[1;32mdef\u001b[0m \u001b[0m__call__\u001b[0m\u001b[1;33m(\u001b[0m\u001b[0mself\u001b[0m\u001b[1;33m,\u001b[0m \u001b[1;33m*\u001b[0m\u001b[0margs\u001b[0m\u001b[1;33m)\u001b[0m\u001b[1;33m:\u001b[0m\u001b[1;33m\u001b[0m\u001b[1;33m\u001b[0m\u001b[0m\n\u001b[1;32m---> 17\u001b[1;33m         \u001b[1;32mreturn\u001b[0m \u001b[0mself\u001b[0m\u001b[1;33m.\u001b[0m\u001b[0minner_model\u001b[0m\u001b[1;33m(\u001b[0m\u001b[1;33m*\u001b[0m\u001b[0margs\u001b[0m\u001b[1;33m)\u001b[0m\u001b[1;33m\u001b[0m\u001b[1;33m\u001b[0m\u001b[0m\n\u001b[0m\u001b[0;32m     18\u001b[0m \u001b[1;33m\u001b[0m\u001b[0m\n\u001b[0;32m     19\u001b[0m     \u001b[1;32mdef\u001b[0m \u001b[0msave\u001b[0m\u001b[1;33m(\u001b[0m\u001b[0mself\u001b[0m\u001b[1;33m,\u001b[0m \u001b[0mout_file\u001b[0m\u001b[1;33m)\u001b[0m\u001b[1;33m:\u001b[0m\u001b[1;33m\u001b[0m\u001b[1;33m\u001b[0m\u001b[0m\n",
      "\u001b[1;32mC:\\Anaconda\\lib\\site-packages\\tensorflow\\python\\keras\\engine\\base_layer.py\u001b[0m in \u001b[0;36m__call__\u001b[1;34m(self, *args, **kwargs)\u001b[0m\n\u001b[0;32m    996\u001b[0m         \u001b[0minputs\u001b[0m \u001b[1;33m=\u001b[0m \u001b[0mself\u001b[0m\u001b[1;33m.\u001b[0m\u001b[0m_maybe_cast_inputs\u001b[0m\u001b[1;33m(\u001b[0m\u001b[0minputs\u001b[0m\u001b[1;33m,\u001b[0m \u001b[0minput_list\u001b[0m\u001b[1;33m)\u001b[0m\u001b[1;33m\u001b[0m\u001b[1;33m\u001b[0m\u001b[0m\n\u001b[0;32m    997\u001b[0m \u001b[1;33m\u001b[0m\u001b[0m\n\u001b[1;32m--> 998\u001b[1;33m       \u001b[0minput_spec\u001b[0m\u001b[1;33m.\u001b[0m\u001b[0massert_input_compatibility\u001b[0m\u001b[1;33m(\u001b[0m\u001b[0mself\u001b[0m\u001b[1;33m.\u001b[0m\u001b[0minput_spec\u001b[0m\u001b[1;33m,\u001b[0m \u001b[0minputs\u001b[0m\u001b[1;33m,\u001b[0m \u001b[0mself\u001b[0m\u001b[1;33m.\u001b[0m\u001b[0mname\u001b[0m\u001b[1;33m)\u001b[0m\u001b[1;33m\u001b[0m\u001b[1;33m\u001b[0m\u001b[0m\n\u001b[0m\u001b[0;32m    999\u001b[0m       \u001b[1;32mif\u001b[0m \u001b[0meager\u001b[0m\u001b[1;33m:\u001b[0m\u001b[1;33m\u001b[0m\u001b[1;33m\u001b[0m\u001b[0m\n\u001b[0;32m   1000\u001b[0m         \u001b[0mcall_fn\u001b[0m \u001b[1;33m=\u001b[0m \u001b[0mself\u001b[0m\u001b[1;33m.\u001b[0m\u001b[0mcall\u001b[0m\u001b[1;33m\u001b[0m\u001b[1;33m\u001b[0m\u001b[0m\n",
      "\u001b[1;32mC:\\Anaconda\\lib\\site-packages\\tensorflow\\python\\keras\\engine\\input_spec.py\u001b[0m in \u001b[0;36massert_input_compatibility\u001b[1;34m(input_spec, inputs, layer_name)\u001b[0m\n\u001b[0;32m    217\u001b[0m       \u001b[0mndim\u001b[0m \u001b[1;33m=\u001b[0m \u001b[0mshape\u001b[0m\u001b[1;33m.\u001b[0m\u001b[0mrank\u001b[0m\u001b[1;33m\u001b[0m\u001b[1;33m\u001b[0m\u001b[0m\n\u001b[0;32m    218\u001b[0m       \u001b[1;32mif\u001b[0m \u001b[0mndim\u001b[0m \u001b[1;33m!=\u001b[0m \u001b[0mspec\u001b[0m\u001b[1;33m.\u001b[0m\u001b[0mndim\u001b[0m\u001b[1;33m:\u001b[0m\u001b[1;33m\u001b[0m\u001b[1;33m\u001b[0m\u001b[0m\n\u001b[1;32m--> 219\u001b[1;33m         raise ValueError('Input ' + str(input_index) + ' of layer ' +\n\u001b[0m\u001b[0;32m    220\u001b[0m                          \u001b[0mlayer_name\u001b[0m \u001b[1;33m+\u001b[0m \u001b[1;34m' is incompatible with the layer: '\u001b[0m\u001b[1;33m\u001b[0m\u001b[1;33m\u001b[0m\u001b[0m\n\u001b[0;32m    221\u001b[0m                          \u001b[1;34m'expected ndim='\u001b[0m \u001b[1;33m+\u001b[0m \u001b[0mstr\u001b[0m\u001b[1;33m(\u001b[0m\u001b[0mspec\u001b[0m\u001b[1;33m.\u001b[0m\u001b[0mndim\u001b[0m\u001b[1;33m)\u001b[0m \u001b[1;33m+\u001b[0m \u001b[1;34m', found ndim='\u001b[0m \u001b[1;33m+\u001b[0m\u001b[1;33m\u001b[0m\u001b[1;33m\u001b[0m\u001b[0m\n",
      "\u001b[1;31mValueError\u001b[0m: Input 0 of layer sequential_5 is incompatible with the layer: expected ndim=3, found ndim=2. Full shape received: (2230, 57)"
     ]
    }
   ],
   "source": [
    "shap_values = explainer.shap_values(a_test)"
   ]
  },
  {
   "cell_type": "code",
   "execution_count": null,
   "metadata": {},
   "outputs": [],
   "source": []
  }
 ],
 "metadata": {
  "kernelspec": {
   "display_name": "Python 3",
   "language": "python",
   "name": "python3"
  },
  "language_info": {
   "codemirror_mode": {
    "name": "ipython",
    "version": 3
   },
   "file_extension": ".py",
   "mimetype": "text/x-python",
   "name": "python",
   "nbconvert_exporter": "python",
   "pygments_lexer": "ipython3",
   "version": "3.8.8"
  }
 },
 "nbformat": 4,
 "nbformat_minor": 4
}
